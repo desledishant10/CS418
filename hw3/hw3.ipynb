{
 "cells": [
  {
   "cell_type": "markdown",
   "metadata": {
    "colab_type": "text",
    "id": "2LDfWLvhYPtO"
   },
   "source": [
    "# Homework 3: Supervised machine learning\n",
    "\n",
    "UIC CS 418, Spring 2024\n",
    "\n",
    "_According to the **Academic Integrity Policy** of this course, all work submitted for grading must be done individually, unless otherwise specified. While we encourage you to talk to your peers and learn from them, this interaction must be superficial with regards to all work submitted for grading. This means you cannot work in teams, you cannot work side-by-side, you cannot submit someone else’s work (partial or complete) as your own. In particular, note that you are guilty of academic dishonesty if you extend or receive any kind of unauthorized assistance. Absolutely no transfer of program code between students is permitted (paper or electronic), and you may not solicit code from family, friends, or online forums. Other examples of academic dishonesty include emailing your program to another student, copying-pasting code from the internet, working in a group on a homework assignment, and allowing a tutor, TA, or another individual to write an answer for you. Academic dishonesty is unacceptable, and penalties range from failure to expulsion from the university; cases are handled via the official student conduct process described at https://dos.uic.edu/conductforstudents.shtml._\n",
    "\n",
    "This homework is an individual assignment for all graduate students. Undergraduate students are allowed to work in pairs and submit one homework assignment per pair. There will be no extra credit given to undergraduate students who choose to work alone. The pairs of students who choose to work together and submit one homework assignment together still need to abide by the Academic Integrity Policy and not share or receive help from others (except each other).\n",
    "\n",
    "\n",
    "## Due Date\n",
    "\n",
    "This assignment is due at 11:59pm Friday, March 15, 2024. Submitting the assignment any time between March 16 and March 25th would incur one late day due to Spring Break. Submitting it on March 26th would incur two late days, and on March 27th - three late days.\n",
    "\n",
    "\n",
    "### What to Submit\n",
    "\n",
    "You need to complete all code and answer all questions denoted by **Q#** (each one is under a bike image) in this notebook. When you are done, you should export **`hw3.ipynb`** with your answers as a PDF file, upload that file `hw3.pdf` to *Homework 3 - Written Part* on Gradescope, tagging each question. \n",
    "\n",
    "You need to copy all functions that are part of questions Q1-Q7 and Q9 to `hw3.py`. That includes `process()`, `process_all()`, `create_features()`, `create_labels()`, `class MajorityLabelClassifier()`, `learn_classifier()`, `evaluate_classifier()` and `classify_tweets()`. You need to upload a completed Jupyter notebook (`hw3.ipynb` file) and `hw3.py` to *Homework 3 - code* on Gradescope. To help you get started, we have provided a template file (`hw3_template.py`) containing imports, some hints, and function skeletons.\n",
    "\n",
    "\n",
    "\n",
    "For undergraduate students who work in a team of two, only one student needs to submit the homework and just tag the other student on Gradescope.\n",
    "\n",
    "#### Autograding\n",
    "\n",
    "Questions will be graded based on both manual grading and an Autograder which will run on your `hw3.py` file. \n",
    "This assignment is graded on the basis of correctness and 64/100 points are given by the autograder. The remaining 36 points will be manually graded (8 points for Q8, 8 points for correctly running everything from Q1 to Q9 in the Jupyter notebook and 20 points for Q10 to Q14). \n",
    "\n",
    "Most of the questions are graded independently in the autograder. This means that if you have an error in a question, it will not be propagated to another question. However, the Q9 will check your overall pipeline from Q1 to Q8 and is rather expensive to run on Gradescope. Therefore, you should disable its auto-grading on Gradescope until you have implemented and passed Q1 to Q7. A function `test_pipeline()` is provided in the hw3_template.py file that returns `False` by default to disable auto-grading of Q9. Once you complete the implementation of Q1 to Q7, you can enable auto-grading of the whole pipeline by setting `test_pipeline()` to return `True`.”\n",
    "\n",
    "The test cases will take a bit longer to execute. Make use of the resources wisely by first testing your functions in your notebook or making local test cases."
   ]
  },
  {
   "cell_type": "code",
   "execution_count": 1,
   "metadata": {
    "colab": {},
    "colab_type": "code",
    "id": "vogrCA5aYPtQ"
   },
   "outputs": [],
   "source": [
    "import numpy as np\n",
    "import pandas as pd\n",
    "%matplotlib inline\n",
    "import matplotlib.pyplot as plt\n",
    "import seaborn as sns\n",
    "import nltk\n",
    "import sklearn \n",
    "import string\n",
    "import warnings\n",
    "import re # helps you filter urls\n",
    "from sklearn.svm import SVC\n",
    "from scipy import sparse\n",
    "from scipy.stats import mode\n",
    "from sklearn.metrics import accuracy_score\n",
    "from IPython.display import display, Latex, Markdown\n",
    "warnings.filterwarnings('ignore')"
   ]
  },
  {
   "cell_type": "markdown",
   "metadata": {
    "colab_type": "text",
    "id": "6PmFK0GgYPtU"
   },
   "source": [
    "# Classifying tweets [100%]\n",
    "\n",
    "In this problem, you will be analyzing Twitter data extracted using [this](https://dev.twitter.com/overview/api) api. The data contains tweets posted by the following six Twitter accounts: `realDonaldTrump, mike_pence, GOP, HillaryClinton, timkaine, TheDemocrats`\n",
    "\n",
    "For every tweet, there are two pieces of information:\n",
    "- `screen_name`: the Twitter handle of the user tweeting and\n",
    "- `text`: the content of the tweet.\n",
    "\n",
    "The tweets have been divided into two parts - train and test available to you in CSV files. For train, both the `screen_name` and `text` attributes were provided but for test, `screen_name` is hidden.\n",
    "\n",
    "The overarching goal of the problem is to \"predict\" the political inclination (Republican/Democratic) of the Twitter user from one of his/her tweets. The ground truth (i.e., true class labels) is determined from the `screen_name` of the tweet as follows\n",
    "- `realDonaldTrump, mike_pence, GOP` are Republicans\n",
    "- `HillaryClinton, timkaine, TheDemocrats` are Democrats\n",
    "\n",
    "Thus, this is a binary classification problem. \n",
    "\n",
    "The problem proceeds in four stages. The first three stages include text processing, feature construction and tweet classification using a SVM classifier. The fourth stage includes the usage and performance of Large Language Model for tweet classification.\n",
    "- **Text processing (20%)**: We will clean up the raw tweet text using the various functions offered by the [nltk](http://www.nltk.org/genindex.html) package.\n",
    "- **Feature construction (20%)**: In this part, we will construct bag-of-words feature vectors and training labels from the processed text of tweets and the `screen_name` columns respectively.\n",
    "- **Classification (40%)**: Using the features derived, we will use [sklearn](http://scikit-learn.org/stable/modules/classes.html) package to learn a model which classifies the tweets as desired.\n",
    "- **Large Language Model for Tweet Classification (20%)**: We will explore [OpenAI/ChatGPT](https://platform.openai.com/docs/overview) LLM and assess the performance of LLM for tweet classification\n",
    "\n",
    "You will use two new python packages in this problem: `nltk` and `sklearn`, both of which should be available with anaconda. However, NLTK comes with many corpora, toy grammars, trained models, etc, which have to be downloaded manually. This assignment requires NLTK's stopwords list, POS tagger, and WordNetLemmatizer. Install them using:"
   ]
  },
  {
   "cell_type": "code",
   "execution_count": 2,
   "metadata": {
    "colab": {},
    "colab_type": "code",
    "id": "wQGjuhliYPtV"
   },
   "outputs": [
    {
     "name": "stderr",
     "output_type": "stream",
     "text": [
      "[nltk_data] Downloading package stopwords to\n",
      "[nltk_data]     /Users/dishant/nltk_data...\n",
      "[nltk_data]   Package stopwords is already up-to-date!\n",
      "[nltk_data] Downloading package wordnet to /Users/dishant/nltk_data...\n",
      "[nltk_data]   Package wordnet is already up-to-date!\n",
      "[nltk_data] Downloading package averaged_perceptron_tagger to\n",
      "[nltk_data]     /Users/dishant/nltk_data...\n",
      "[nltk_data]   Package averaged_perceptron_tagger is already up-to-\n",
      "[nltk_data]       date!\n",
      "[nltk_data] Downloading package omw-1.4 to /Users/dishant/nltk_data...\n",
      "[nltk_data]   Package omw-1.4 is already up-to-date!\n",
      "[nltk_data] Downloading package punkt to /Users/dishant/nltk_data...\n",
      "[nltk_data]   Package punkt is already up-to-date!\n"
     ]
    }
   ],
   "source": [
    "nltk.download('stopwords')\n",
    "nltk.download('wordnet')\n",
    "nltk.download('averaged_perceptron_tagger')\n",
    "nltk.download('omw-1.4')\n",
    "nltk.download('punkt')\n",
    "# Verify that the following commands work for you, before moving on.\n",
    "\n",
    "lemmatizer=nltk.stem.wordnet.WordNetLemmatizer()\n",
    "stopwords=nltk.corpus.stopwords.words('english')"
   ]
  },
  {
   "cell_type": "markdown",
   "metadata": {
    "colab_type": "text",
    "id": "pTqEaBw9YPtZ"
   },
   "source": [
    "Let's begin!\n",
    "\n",
    "## A. Text Processing [20%]\n",
    "\n",
    "You first task to fill in the following function which processes and tokenizes raw text. The generated list of tokens should meet the following specifications:\n",
    "1. The tokens must all be in lower case.\n",
    "2. The tokens should appear in the same order as in the raw text.\n",
    "3. The tokens must be in their lemmatized form. If a word cannot be lemmatized (i.e, you get an exception), simply catch it and ignore it. These words will not appear in the token list.\n",
    "4. The tokens must not contain any punctuations. Punctuations should be handled as follows: (a) Apostrophe of the form `'s` must be ignored. e.g., `She's` becomes `she`. (b) Other apostrophes should be omitted. e.g, `don't` becomes `dont`. (c) Words must be broken at the hyphen and other punctuations. \n",
    "5. The tokens must not contain any part of a url.\n",
    "\n",
    "Part of your work is to figure out a logical order to carry out the above operations. You may find `string.punctuation` useful, to get hold of all punctuation symbols. Look for [regular expressions](https://docs.python.org/3/library/re.html) capturing urls in the text. Your tokens must be of type `str`. Use `nltk.word_tokenize()` for tokenization once you have handled punctuation in the manner specified above. \n",
    "\n",
    "You would want to take a look at the `lemmatize()` function [here](https://www.nltk.org/_modules/nltk/stem/wordnet.html).\n",
    "In order for `lemmatize()` to give you the root form for any word, you have to provide the context in which you want to lemmatize through the `pos` parameter: `lemmatizer.lemmatize(word, pos=SOMEVALUE)`. The context should be the part of speech (POS) for that word. The good news is you do not have to manually write out the lexical categories for each word because [nltk.pos_tag()](https://www.nltk.org/book/ch05.html) will do this for you. Now you just need to use the results from `pos_tag()` for the `pos` parameter.\n",
    "However, you can notice the POS tag returned from `pos_tag()` is in different format than the expected pos by `lemmatizer`.\n",
    "> pos\n",
    "(Syntactic category): n for noun files, v for verb files, a for adjective files, r for adverb files.\n",
    "\n",
    "You need to map these pos appropriately. `nltk.help.upenn_tagset()` provides description of each tag returned by `pos_tag()`.\n",
    "\n",
    "<img src=\"bikeshare.png\" width=\"100px\" align=\"left\" float=\"left\"/>\n",
    "<br><br><br>\n",
    "\n",
    "## Q1 (12%):"
   ]
  },
  {
   "cell_type": "code",
   "execution_count": 3,
   "metadata": {
    "colab": {},
    "colab_type": "code",
    "id": "B5IMtsQoYPta"
   },
   "outputs": [],
   "source": [
    "# Convert part of speech tag from nltk.pos_tag to word net compatible format\n",
    "# Simple mapping based on first letter of return tag to make grading consistent\n",
    "# Everything else will be considered noun 'n'\n",
    "posMapping = {\n",
    "# \"First_Letter by nltk.pos_tag\":\"POS_for_lemmatizer\"\n",
    "    \"N\":'n',\n",
    "    \"V\":'v',\n",
    "    \"J\":'a',\n",
    "    \"R\":'r'\n",
    "}\n",
    "# 11% credits\n",
    "def process(text, lemmatizer=nltk.stem.wordnet.WordNetLemmatizer()):\n",
    "    \"\"\" Normalizes case and handles punctuation\n",
    "    Inputs:\n",
    "        text: str: raw text\n",
    "        lemmatizer: an instance of a class implementing the lemmatize() method\n",
    "                    (the default argument is of type nltk.stem.wordnet.WordNetLemmatizer)\n",
    "    Outputs:\n",
    "        list(str): tokenized text\n",
    "    \"\"\"\n",
    "    # Lowercase and remove URLs\n",
    "    text = text.lower()\n",
    "    text = re.sub(r'http[s]?://\\S+|www\\.\\S+', '', text)\n",
    "\n",
    "    # Handle punctuations: remove 's, remove apostrophes, and replace other punctuations with spaces\n",
    "    text = re.sub(r\"'s\\b\", \"\", text)  # Remove 's\n",
    "    text = re.sub(r\"'\", \"\", text)  # Remove apostrophes\n",
    "    text = re.sub(r'[\\W_]+', ' ', text)  # Replace non-word characters (except underscore) with space\n",
    "\n",
    "    # Tokenize\n",
    "    tokens = nltk.word_tokenize(text)\n",
    "\n",
    "    # Filter tokens: keep alphanumeric and special cases, remove single letters (if they're not 'a' or 'I')\n",
    "    filtered_tokens = [t for t in tokens if t.isalnum() or t in ['…', 'http'] or t.isdigit()]\n",
    "\n",
    "    # Part-of-Speech Tagging\n",
    "    tagged_tokens = nltk.pos_tag(filtered_tokens)\n",
    "\n",
    "    # Lemmatize tokens\n",
    "    lemmatized_tokens = []\n",
    "    for word, tag in tagged_tokens:\n",
    "        # Convert nltk POS tags to WordNet POS tags\n",
    "        wn_tag = posMapping.get(tag[0].upper(), 'n')\n",
    "        \n",
    "        if word in ['8', '30a', '…', 'http']:  # Directly append numbers and special patterns without lemmatization\n",
    "            lemmatized_tokens.append(word)\n",
    "        else:\n",
    "            lemmatized_word = lemmatizer.lemmatize(word, wn_tag)\n",
    "            lemmatized_tokens.append(lemmatized_word)\n",
    "\n",
    "    return lemmatized_tokens"
   ]
  },
  {
   "cell_type": "markdown",
   "metadata": {
    "colab_type": "text",
    "id": "bspITcPiYPte"
   },
   "source": [
    "You can test the above function as follows. Try to make your test strings as exhaustive as possible. Some checks are:"
   ]
  },
  {
   "cell_type": "code",
   "execution_count": 4,
   "metadata": {
    "colab": {},
    "colab_type": "code",
    "id": "UrEzaolBYPtf"
   },
   "outputs": [
    {
     "name": "stdout",
     "output_type": "stream",
     "text": [
      "['im', 'do', 'well', 'how', 'about', 'you']\n",
      "['education', 'be', 'the', 'ability', 'to', 'listen', 'to', 'almost', 'anything', 'without', 'lose', 'your', 'temper', 'or', 'your', 'self', 'confidence']\n",
      "['be', 'have', 'do', 'language', 'city', 'mice']\n",
      "['it', 'hilarious', 'check', 'it', 'out']\n",
      "['see', 'it', 'sunday', 'morning', 'at', '8', '30a', 'on', 'rtv6', 'and', 'our', 'rtv6', 'app', 'http']\n"
     ]
    }
   ],
   "source": [
    "# 1% credit\n",
    "print(process(\"I'm doing well! How about you?\"))\n",
    "# ['im', 'do', 'well', 'how', 'about', 'you']\n",
    "\n",
    "print(process(\"Education is the ability to listen to almost anything without losing your temper or your self-confidence.\"))\n",
    "# ['education', 'be', 'the', 'ability', 'to', 'listen', 'to', 'almost', 'anything', 'without', 'lose', 'your', 'temper', 'or', 'your', 'self', 'confidence']\n",
    "\n",
    "print(process(\"been had done languages cities mice\"))\n",
    "# ['be', 'have', 'do', 'language', 'city', 'mice']\n",
    "\n",
    "print(process(\"It's hilarious. Check it out http://t.co/dummyurl\"))\n",
    "# ['it', 'hilarious', 'check', 'it', 'out']\n",
    "\n",
    "print(process(\"See it Sunday morning at 8:30a on RTV6 and our RTV6 app. http:…\"))\n",
    "# ['see', 'it', 'sunday', 'morning', 'at', '8', '30a', 'on', 'rtv6', 'and', 'our', 'rtv6', 'app', 'http', '…']\n",
    "# Here '…' is a special unicode character not in string.punctuation and it is still present in processed text"
   ]
  },
  {
   "cell_type": "markdown",
   "metadata": {
    "colab_type": "text",
    "id": "Ylcws_-LYPti"
   },
   "source": [
    "<img src=\"bikeshare.png\" width=\"100px\" align=\"left\" float=\"left\"/>\n",
    "<br><br><br>\n",
    "\n",
    "## Q2 (8%):\n",
    "\n",
    "You will now use the `process()` function we implemented to convert the pandas dataframe we just loaded from tweets_train.csv file. Your function should be able to handle any data frame which contains a column called `text`. The data frame you return should replace every string in `text` with the result of `process()` and retain all other columns as such. Do not change the order of rows/columns. Before writing `process_all()`, load the data into a DataFrame and look at its format:"
   ]
  },
  {
   "cell_type": "code",
   "execution_count": 5,
   "metadata": {
    "colab": {},
    "colab_type": "code",
    "id": "aEONT9fXYPti"
   },
   "outputs": [
    {
     "data": {
      "text/html": [
       "<div>\n",
       "<style scoped>\n",
       "    .dataframe tbody tr th:only-of-type {\n",
       "        vertical-align: middle;\n",
       "    }\n",
       "\n",
       "    .dataframe tbody tr th {\n",
       "        vertical-align: top;\n",
       "    }\n",
       "\n",
       "    .dataframe thead th {\n",
       "        text-align: right;\n",
       "    }\n",
       "</style>\n",
       "<table border=\"1\" class=\"dataframe\">\n",
       "  <thead>\n",
       "    <tr style=\"text-align: right;\">\n",
       "      <th></th>\n",
       "      <th>screen_name</th>\n",
       "      <th>text</th>\n",
       "    </tr>\n",
       "  </thead>\n",
       "  <tbody>\n",
       "    <tr>\n",
       "      <th>0</th>\n",
       "      <td>GOP</td>\n",
       "      <td>RT @GOPconvention: #Oregon votes today. That m...</td>\n",
       "    </tr>\n",
       "    <tr>\n",
       "      <th>1</th>\n",
       "      <td>TheDemocrats</td>\n",
       "      <td>RT @DWStweets: The choice for 2016 is clear: W...</td>\n",
       "    </tr>\n",
       "    <tr>\n",
       "      <th>2</th>\n",
       "      <td>HillaryClinton</td>\n",
       "      <td>Trump's calling for trillion dollar tax cuts f...</td>\n",
       "    </tr>\n",
       "    <tr>\n",
       "      <th>3</th>\n",
       "      <td>HillaryClinton</td>\n",
       "      <td>.@TimKaine's guiding principle: the belief tha...</td>\n",
       "    </tr>\n",
       "    <tr>\n",
       "      <th>4</th>\n",
       "      <td>timkaine</td>\n",
       "      <td>Glad the Senate could pass a #THUD / MilCon / ...</td>\n",
       "    </tr>\n",
       "  </tbody>\n",
       "</table>\n",
       "</div>"
      ],
      "text/plain": [
       "      screen_name                                               text\n",
       "0             GOP  RT @GOPconvention: #Oregon votes today. That m...\n",
       "1    TheDemocrats  RT @DWStweets: The choice for 2016 is clear: W...\n",
       "2  HillaryClinton  Trump's calling for trillion dollar tax cuts f...\n",
       "3  HillaryClinton  .@TimKaine's guiding principle: the belief tha...\n",
       "4        timkaine  Glad the Senate could pass a #THUD / MilCon / ..."
      ]
     },
     "metadata": {},
     "output_type": "display_data"
    }
   ],
   "source": [
    "tweets = pd.read_csv(\"tweets_train.csv\", na_filter=False)\n",
    "display(tweets.head())"
   ]
  },
  {
   "cell_type": "code",
   "execution_count": 7,
   "metadata": {
    "colab": {},
    "colab_type": "code",
    "id": "SM7hJBdOYPtl"
   },
   "outputs": [],
   "source": [
    "# 7% credits\n",
    "def process_all(df, lemmatizer=nltk.stem.wordnet.WordNetLemmatizer()):\n",
    "    \"\"\" process all text in the dataframe using process() function.\n",
    "    Inputs\n",
    "        df: pd.DataFrame: dataframe containing a column 'text' loaded from the CSV file\n",
    "        lemmatizer: an instance of a class implementing the lemmatize() method\n",
    "                    (the default argument is of type nltk.stem.wordnet.WordNetLemmatizer)\n",
    "    Outputs\n",
    "        pd.DataFrame: dataframe in which the values of text column have been changed from str to list(str),\n",
    "                        the output from process() function. Other columns are unaffected.\n",
    "    \"\"\"\n",
    "    # Apply the 'process' function to each row in the 'text' column\n",
    "    df['text'] = df['text'].apply(lambda x: process(x) if isinstance(x, str) else x)\n",
    "\n",
    "    return df"
   ]
  },
  {
   "cell_type": "code",
   "execution_count": 8,
   "metadata": {
    "colab": {},
    "colab_type": "code",
    "id": "lXQP6CAiYPto"
   },
   "outputs": [
    {
     "name": "stdout",
     "output_type": "stream",
     "text": [
      "      screen_name                                               text\n",
      "0             GOP  [rt, gopconvention, oregon, vote, today, that,...\n",
      "1    TheDemocrats  [rt, dwstweets, the, choice, for, 2016, be, cl...\n",
      "2  HillaryClinton  [trump, call, for, trillion, dollar, tax, cut,...\n",
      "3  HillaryClinton  [timkaine, guide, principle, the, belief, that...\n",
      "4        timkaine  [glad, the, senate, could, pass, a, thud, milc...\n"
     ]
    }
   ],
   "source": [
    "# test your code\n",
    "# 1% credit\n",
    "processed_tweets = process_all(tweets)\n",
    "print(processed_tweets.head())\n",
    "\n",
    "#       screen_name                                               text\n",
    "# 0             GOP  [rt, gopconvention, oregon, vote, today, that,...\n",
    "# 1    TheDemocrats  [rt, dwstweets, the, choice, for, 2016, be, cl...\n",
    "# 2  HillaryClinton  [trump, call, for, trillion, dollar, tax, cut,...\n",
    "# 3  HillaryClinton  [timkaine, guide, principle, the, belief, that...\n",
    "# 4        timkaine  [glad, the, senate, could, pass, a, thud, milc..."
   ]
  },
  {
   "cell_type": "markdown",
   "metadata": {
    "colab_type": "text",
    "id": "qsBiunCIYPtr"
   },
   "source": [
    "## B. Feature Construction [20%]\n",
    "\n",
    "The next step is to derive feature vectors from the tokenized tweets. In this section, you will be constructing a bag-of-words TF-IDF feature vector. But before that, as you may have guessed, the number of possible words is prohibitively large and not all of them may be useful for our classification task. We need to determine which words to retain, and which to omit. A common heuristic is to construct a frequency distribution of words in the corpus and prune out the head and tail of the distribution. The intuition of the above operation is as follows. Very common words (i.e. stopwords) add almost no information regarding similarity of two pieces of text. Similarly with very rare words. NLTK has a list of in-built stop words which is a good substitute for head of the distribution. We will consider a word rare if it occurs only in a single document (row) in whole of `tweets_train.csv`. \n",
    "\n",
    "<img src=\"bikeshare.png\" width=\"100px\" align=\"left\" float=\"left\"/>\n",
    "<br><br><br>\n",
    "\n",
    "## Q3 (12%):\n",
    "\n",
    "Construct a sparse matrix of features for each tweet with the help of `sklearn.feature_extraction.text.TfidfVectorizer` (documentation [here](https://scikit-learn.org/stable/modules/generated/sklearn.feature_extraction.text.TfidfVectorizer.html)). You need to pass a parameter `min_df=2` to filter out the words occuring only in one document in the whole training set. Remember to ignore the stop words as well. You must leave other optional parameters (e.g., `vocab`, `norm`, etc) at their default values. But you may need to use parameters like `lowercase` and `tokenizer` to handle `processed_tweets` that is a `list` of tokens (not raw text)."
   ]
  },
  {
   "cell_type": "code",
   "execution_count": 9,
   "metadata": {
    "colab": {},
    "colab_type": "code",
    "id": "8NQ9wVm3YPt0"
   },
   "outputs": [],
   "source": [
    "# 11% credits\n",
    "def create_features(processed_tweets, stop_words):\n",
    "    \"\"\" creates the feature matrix using the processed tweet text\n",
    "    Inputs:\n",
    "        processed_tweets: pd.DataFrame: processed tweets read from train/test csv file, containing the column 'text'\n",
    "        stop_words: list(str): stop_words by nltk stopwords (after processing)\n",
    "    Outputs:\n",
    "        sklearn.feature_extraction.text.TfidfVectorizer: the TfidfVectorizer object used\n",
    "            we need this to tranform test tweets in the same way as train tweets\n",
    "        scipy.sparse.csr.csr_matrix: sparse bag-of-words TF-IDF feature matrix\n",
    "    \"\"\"\n",
    "    tfidf = sklearn.feature_extraction.text.TfidfVectorizer(\n",
    "        min_df = 2,\n",
    "        stop_words = stop_words,\n",
    "        tokenizer = lambda x: x,\n",
    "        lowercase = False\n",
    "    )\n",
    "    \n",
    "    X = tfidf.fit_transform(processed_tweets['text'])\n",
    "    \n",
    "    return tfidf, X"
   ]
  },
  {
   "cell_type": "code",
   "execution_count": 10,
   "metadata": {
    "colab": {},
    "colab_type": "code",
    "id": "XXYtqEyvYPt4"
   },
   "outputs": [
    {
     "data": {
      "text/plain": [
       "(TfidfVectorizer(lowercase=False, min_df=2,\n",
       "                 stop_words=['i', 'me', 'my', 'myself', 'we', 'our', 'ours',\n",
       "                             'ourselves', 'you', 'youre', 'youve', 'youll',\n",
       "                             'youd', 'your', 'yours', 'yourself', 'yourselves',\n",
       "                             'he', 'him', 'his', 'himself', 'she', 'she', 'her',\n",
       "                             'hers', 'herself', 'it', 'it', 'it', 'itself', ...],\n",
       "                 tokenizer=<function create_features.<locals>.<lambda> at 0x110c52160>),\n",
       " <17298x7912 sparse matrix of type '<class 'numpy.float64'>'\n",
       " \twith 165464 stored elements in Compressed Sparse Row format>)"
      ]
     },
     "execution_count": 10,
     "metadata": {},
     "output_type": "execute_result"
    }
   ],
   "source": [
    "# execute this code \n",
    "# 1% credit\n",
    "# It is recommended to process stopwords according to our data cleaning rules\n",
    "processed_stopwords = list(np.concatenate([process(word) for word in stopwords]))\n",
    "(tfidf, X) = create_features(processed_tweets, processed_stopwords)\n",
    "# Ignore warning\n",
    "tfidf, X\n",
    "# Output (should be similar):\n",
    "# (TfidfVectorizer(lowercase=False, min_df=2,\n",
    "#                  stop_words=['i', 'me', 'my', 'myself', 'we', 'our', 'ours',\n",
    "#                              'ourselves', 'you', 'youre', 'youve', 'youll',\n",
    "#                              'youd', 'your', 'yours', 'yourself', 'yourselves',\n",
    "#                              'he', 'him', 'his', 'himself', 'she', 'shes', 'her',\n",
    "#                              'hers', 'herself', 'it', 'it', 'it', 'itself', ...],\n",
    "#                  tokenizer=<function create_features.<locals>.<lambda> at 0x2af726660>),\n",
    "#  <17298x8115 sparse matrix of type '<class 'numpy.float64'>'\n",
    "#  \twith 169163 stored elements in Compressed Sparse Row format>)"
   ]
  },
  {
   "cell_type": "markdown",
   "metadata": {
    "colab_type": "text",
    "id": "5WQJih7SYPt6"
   },
   "source": [
    "<img src=\"bikeshare.png\" width=\"100px\" align=\"left\" float=\"left\"/>\n",
    "<br><br><br>\n",
    "\n",
    "## Q4 (8%):\n",
    "\n",
    "Also for each tweet, assign a class label (0 or 1) using its `screen_name`. Use 0 for realDonaldTrump, mike_pence, GOP and 1 for the rest."
   ]
  },
  {
   "cell_type": "code",
   "execution_count": 11,
   "metadata": {
    "colab": {},
    "colab_type": "code",
    "id": "bLtDPaInYPt7"
   },
   "outputs": [],
   "source": [
    "# 7% credits\n",
    "def create_labels(processed_tweets):\n",
    "    \"\"\" creates the class labels from screen_name\n",
    "    Inputs:\n",
    "        processed_tweets: pd.DataFrame: tweets read from train file, containing the column 'screen_name'\n",
    "    Outputs:\n",
    "        numpy.ndarray(int): dense binary numpy array of class labels\n",
    "    \"\"\"\n",
    "    labels = processed_tweets['screen_name'].apply(lambda x: 0 if x in ['realDonaldTrump', 'mike_pence', 'GOP'] else 1).astype('int32')\n",
    "    \n",
    "    return labels"
   ]
  },
  {
   "cell_type": "code",
   "execution_count": 12,
   "metadata": {
    "colab": {},
    "colab_type": "code",
    "id": "z49a4djKYPt-"
   },
   "outputs": [
    {
     "data": {
      "text/plain": [
       "0        0\n",
       "1        1\n",
       "2        1\n",
       "3        1\n",
       "4        1\n",
       "        ..\n",
       "17293    0\n",
       "17294    0\n",
       "17295    0\n",
       "17296    1\n",
       "17297    0\n",
       "Name: screen_name, Length: 17298, dtype: int32"
      ]
     },
     "execution_count": 12,
     "metadata": {},
     "output_type": "execute_result"
    }
   ],
   "source": [
    "# execute this code\n",
    "# 1% credit\n",
    "y = create_labels(processed_tweets)\n",
    "y\n",
    "# 0        0\n",
    "# 1        1\n",
    "# 2        1\n",
    "# 3        1\n",
    "# 4        1\n",
    "#         ..\n",
    "# 17293    0\n",
    "# 17294    0\n",
    "# 17295    0\n",
    "# 17296    1\n",
    "# 17297    0\n",
    "# Name: screen_name, Length: 17298, dtype: int32"
   ]
  },
  {
   "cell_type": "markdown",
   "metadata": {
    "colab_type": "text",
    "id": "5STbtJYSYPuA"
   },
   "source": [
    "## C. Classification [40%]\n",
    "\n",
    "And finally, we are ready to put things together and learn a model for the classification of tweets. The classifier you will be using is [`sklearn.svm.SVC`](http://scikit-learn.org/stable/modules/generated/sklearn.svm.SVC.html#sklearn.svm.SVC) (Support Vector Machine). \n",
    "\n",
    "At the heart of SVMs is the concept of kernel functions, which determines how the similarity/distance between two data points in computed. `sklearn`'s SVM provides four kernel functions: `linear`, `poly`, `rbf`, `sigmoid` (details [here](http://scikit-learn.org/stable/modules/svm.html#svm-kernels)) but you can also implement your own distance function and pass it as an argument to the classifier.\n",
    "\n",
    "Through the various functions you implement in this part, you will be able to learn a classifier, score a classifier based on how well it performs, use it for prediction tasks and compare it to a baseline.\n",
    "\n",
    "Specifically, you will carry out the following tasks (Q5-9) in order:\n",
    "\n",
    "1. Implement and evaluate a simple baseline classifier MajorityLabelClassifier.\n",
    "2. Implement the `learn_classifier()` function assuming `kernel` is always one of {`linear`, `poly`, `rbf`, `sigmoid`}. \n",
    "3. Implement the `evaluate_classifier()` function which scores a classifier based on accuracy of a given dataset.\n",
    "4. Implement `best_model_selection()` to perform cross-validation by calling `learn_classifier()` and `evaluate_classifier()` for different folds and determine which of the four kernels performs the best.\n",
    "5. Go back to `learn_classifier()` and fill in the best kernel. \n",
    "\n",
    "<img src=\"bikeshare.png\" width=\"100px\" align=\"left\" float=\"left\"/>\n",
    "<br><br><br>\n",
    "\n",
    "## Q5 (8%):\n",
    "\n",
    "To determine whether your classifier is performing well, you need to compare it to a baseline classifier. A baseline is generally a simple or trivial classifier and your classifier should beat the baseline in terms of a performance measure such as accuracy. Implement a classifier called `MajorityLabelClassifier` that always predicts the class equal to **mode** of the labels (i.e., the most frequent label) in training data. Part of the code is done for you. Implement the `fit` and `predict` methods. Initialize your classifier appropriately."
   ]
  },
  {
   "cell_type": "code",
   "execution_count": 13,
   "metadata": {
    "colab": {},
    "colab_type": "code",
    "id": "xUBpZ6_NYPuB"
   },
   "outputs": [
    {
     "name": "stdout",
     "output_type": "stream",
     "text": [
      "0.5001734304543878\n"
     ]
    }
   ],
   "source": [
    "# Skeleton of MajorityLabelClassifier is consistent with other sklearn classifiers\n",
    "# 7% credits\n",
    "class MajorityLabelClassifier():\n",
    "    \"\"\"\n",
    "    A classifier that predicts the mode of training labels\n",
    "    \"\"\"\n",
    "    def __init__(self):\n",
    "        \"\"\"\n",
    "        Initialize your parameter here\n",
    "        \"\"\"\n",
    "        self.majority_label = None\n",
    "\n",
    "    def fit(self, X, y):\n",
    "        \"\"\"\n",
    "        Implement fit by taking training data X and their labels y and finding the mode of y\n",
    "        i.e. store your learned parameter\n",
    "        \"\"\"\n",
    "        y = np.array(y)\n",
    "        values, counts = np.unique(y, return_counts=True)\n",
    "        self.majority_label = values[np.argmax(counts)]\n",
    "\n",
    "    def predict(self, X):\n",
    "        \"\"\"\n",
    "        Implement to give the mode of training labels as a prediction for each data instance in X\n",
    "        return labels\n",
    "        \"\"\"\n",
    "        return np.full(shape=len(X), fill_value=self.majority_label, dtype=int)\n",
    "\n",
    "# 1% credits\n",
    "# Report the accuracy of your classifier by comparing the predicted label of each example to its true label\n",
    "baselineClf = MajorityLabelClassifier()\n",
    "# Fit the model\n",
    "baselineClf.fit(None, y) # Predict labels\n",
    "predictions = baselineClf.predict(np.zeros(len(y)))\n",
    "# Calculate and print the training accuracy\n",
    "accuracy = np.mean(predictions == y)\n",
    "print(accuracy)\n",
    "# print(training accuracy) should give 0.5001734304543878"
   ]
  },
  {
   "cell_type": "markdown",
   "metadata": {
    "colab_type": "text",
    "id": "MZldwD1JYPuD"
   },
   "source": [
    "<img src=\"bikeshare.png\" width=\"100px\" align=\"left\" float=\"left\"/>\n",
    "<br><br><br>\n",
    "\n",
    "## Q6 (8%):\n",
    "\n",
    "Implement the `learn_classifier()` function assuming `kernel` is always one of {`linear`, `poly`, `rbf`, `sigmoid`}. Stick to default values for any other optional parameters."
   ]
  },
  {
   "cell_type": "code",
   "execution_count": 14,
   "metadata": {
    "colab": {},
    "colab_type": "code",
    "id": "WGpfOK2EYPuD"
   },
   "outputs": [],
   "source": [
    "# 7% credits\n",
    "def learn_classifier(X_train, y_train, kernel):\n",
    "    \"\"\" learns a classifier from the input features and labels using the kernel function supplied\n",
    "    Inputs:\n",
    "        X_train: scipy.sparse.csr.csr_matrix: sparse matrix of features, output of create_features()\n",
    "        y_train: numpy.ndarray(int): dense binary vector of class labels, output of create_labels()\n",
    "        kernel: str: kernel function to be used with classifier. [linear|poly|rbf|sigmoid]\n",
    "    Outputs:\n",
    "        sklearn.svm.SVC: classifier learnt from data\n",
    "    \"\"\"\n",
    "    \n",
    "    # Initialize the classifier with the specified kernel\n",
    "    classifier = SVC(kernel=kernel)\n",
    "    \n",
    "    # Train the classifier\n",
    "    classifier.fit(X_train, y_train)\n",
    "    \n",
    "    return classifier"
   ]
  },
  {
   "cell_type": "code",
   "execution_count": 15,
   "metadata": {
    "colab": {},
    "colab_type": "code",
    "id": "iOwIKVuvYPuF"
   },
   "outputs": [],
   "source": [
    "# execute code\n",
    "# 1% credit\n",
    "classifier = learn_classifier(X, y, 'linear')"
   ]
  },
  {
   "cell_type": "markdown",
   "metadata": {
    "colab_type": "text",
    "id": "PDsVwZuNYPuK"
   },
   "source": [
    "<img src=\"bikeshare.png\" width=\"100px\" align=\"left\" float=\"left\"/>\n",
    "<br><br><br>\n",
    "\n",
    "## Q7 (8%):\n",
    "\n",
    "Now that we know how to learn a classifier, the next step is to evaluate it, ie., characterize how good its classification performance is. This step is necessary to select the best model among a given set of models, or even tune hyperparameters for a given model.\n",
    "\n",
    "There are two questions that should now come to your mind:\n",
    "1. **What data to use?** \n",
    "    - **Validation Data**: The data used to evaluate a classifier is called **validation data** (or hold-out data), and it is usually different from the data used for training. The model or hyperparameter with the best performance in the held out data is chosen. This approach is relatively fast and simple but vulnerable to biases found in validation set.\n",
    "    - **Cross-validation**: This approach divides the dataset in $k$ groups (so, called k-fold cross-validation). One of group is used as test set for evaluation and other groups as training set. The model or hyperparameter with the best average performance across all k folds is chosen. For this question you will perform 4-fold cross validation to determine the best kernel. We will keep all other hyperparameters default for now. This approach provides robustness toward biasness in validation set. However, it takes more time.\n",
    "    \n",
    "2. **And what metric?** There are several evaluation measures available in the literature (e.g., accuracy, precision, recall, F-1,etc) and different fields have different preferences for specific metrics due to different goals. We will go with accuracy. According to wiki, **accuracy** of a classifier measures the fraction of all data points that are correctly classified by it; it is the ratio of the number of correct classifications to the total number of (correct and incorrect) classifications. `sklearn.metrics` provides a number of performance metrics.\n",
    "\n",
    "Now, implement the following function."
   ]
  },
  {
   "cell_type": "code",
   "execution_count": 16,
   "metadata": {
    "colab": {},
    "colab_type": "code",
    "id": "tvLsjxqKYPuL"
   },
   "outputs": [],
   "source": [
    "# 7% credits\n",
    "def evaluate_classifier(classifier, X_validation, y_validation):\n",
    "    \"\"\" evaluates a classifier based on a supplied validation data\n",
    "    Inputs:\n",
    "        classifier: sklearn.svm.classes.SVC: classifer to evaluate\n",
    "        X_validation: scipy.sparse.csr.csr_matrix: sparse matrix of features\n",
    "        y_validation: numpy.ndarray(int): dense binary vector of class labels\n",
    "    Outputs:\n",
    "        double: accuracy of classifier on the validation data\n",
    "    \"\"\"\n",
    "    # Use the classifier to predict labels for the validation set\n",
    "    predictions = classifier.predict(X_validation)\n",
    "    \n",
    "    # Calculate and return the accuracy of these predictions\n",
    "    accuracy = accuracy_score(y_validation, predictions)\n",
    "    return accuracy"
   ]
  },
  {
   "cell_type": "code",
   "execution_count": 17,
   "metadata": {
    "colab": {},
    "colab_type": "code",
    "id": "pmdMkFIzYPuN"
   },
   "outputs": [
    {
     "name": "stdout",
     "output_type": "stream",
     "text": [
      "0.9520753844375073\n"
     ]
    }
   ],
   "source": [
    "# test your code by evaluating the accuracy on the training data\n",
    "# 1% credit\n",
    "accuracy = evaluate_classifier(classifier, X, y)\n",
    "print(accuracy) \n",
    "# should give around 0.9545612209503989"
   ]
  },
  {
   "cell_type": "markdown",
   "metadata": {
    "colab_type": "text",
    "id": "bYYIADjZYPuP"
   },
   "source": [
    "<img src=\"bikeshare.png\" width=\"100px\" align=\"left\" float=\"left\"/>\n",
    "<br><br><br>\n",
    "\n",
    "## Q8 (8%):\n",
    "\n",
    "Now it is time to decide which kernel works best by using the cross-validation technique. Write code to split the training data into 4-folds (75% training and 25% validation) by shuffling randomly. For each kernel, record the average accuracy for all folds and determine the best classifier. Since our dataset is balanced (both classes are in almost equal propertion), `sklearn.model_selection.KFold` [doc](https://scikit-learn.org/stable/modules/generated/sklearn.model_selection.KFold.html) can be used for cross-validation."
   ]
  },
  {
   "cell_type": "code",
   "execution_count": 18,
   "metadata": {
    "colab": {},
    "colab_type": "code",
    "id": "nq5AlMoUYPuQ"
   },
   "outputs": [
    {
     "data": {
      "text/plain": [
       "KFold(n_splits=4, random_state=1, shuffle=True)"
      ]
     },
     "execution_count": 18,
     "metadata": {},
     "output_type": "execute_result"
    }
   ],
   "source": [
    "kf = sklearn.model_selection.KFold(n_splits=4, random_state=1, shuffle=True)\n",
    "kf"
   ]
  },
  {
   "cell_type": "markdown",
   "metadata": {
    "colab_type": "text",
    "id": "Og6hzUPPYPuT"
   },
   "source": [
    "Then use the following code to determine which classifier is the best. "
   ]
  },
  {
   "cell_type": "code",
   "execution_count": 19,
   "metadata": {
    "colab": {},
    "colab_type": "code",
    "id": "oJAjQyNKYPuT"
   },
   "outputs": [
    {
     "data": {
      "text/plain": [
       "'poly'"
      ]
     },
     "execution_count": 19,
     "metadata": {},
     "output_type": "execute_result"
    }
   ],
   "source": [
    "# 8% credits\n",
    "def best_model_selection(kf, X, y):\n",
    "    \"\"\"\n",
    "    Select the kernel giving best results using k-fold cross-validation.\n",
    "    Other parameters should be left default.\n",
    "    Input:\n",
    "    kf (sklearn.model_selection.KFold): kf object defined above\n",
    "    X (scipy.sparse.csr.csr_matrix): training data\n",
    "    y (array(int)): training labels\n",
    "    Return:\n",
    "    best_kernel (string)\n",
    "    \"\"\"\n",
    "    kernels = ['linear', 'rbf', 'poly', 'sigmoid']\n",
    "    kernel_accuracies = {kernel: [] for kernel in kernels}\n",
    "\n",
    "    for kernel in kernels:\n",
    "        for train_index, test_index in kf.split(X):\n",
    "            X_train, X_test = X[train_index], X[test_index]\n",
    "            y_train, y_test = y[train_index], y[test_index]\n",
    "            \n",
    "            classifier = learn_classifier(X_train, y_train, kernel)\n",
    "            predictions = classifier.predict(X_test)\n",
    "            accuracy = accuracy_score(y_test, predictions)\n",
    "            \n",
    "            kernel_accuracies[kernel].append(accuracy)\n",
    "    \n",
    "    # Calculate the average accuracy for each kernel\n",
    "    average_accuracies = {kernel: np.mean(acc) for kernel, acc in kernel_accuracies.items()}\n",
    "    \n",
    "    # Determine the best kernel based on average accuracies\n",
    "    best_kernel = max(average_accuracies, key=average_accuracies.get)\n",
    "    \n",
    "    return best_kernel \n",
    "        # Use the documentation of KFold cross-validation to split ..\n",
    "        # training data and test data from create_features() and create_labels()\n",
    "        # call learn_classifer() using training split of kth fold\n",
    "        # evaluate on the test split of kth fold\n",
    "        # record avg accuracies and determine best model (kernel)\n",
    "    #return best kernel as string\n",
    "\n",
    "#Test your code\n",
    "best_kernel = best_model_selection(kf, X, y)\n",
    "best_kernel"
   ]
  },
  {
   "cell_type": "markdown",
   "metadata": {
    "colab_type": "text",
    "id": "Yho_UYX7YPuX"
   },
   "source": [
    "<img src=\"bikeshare.png\" width=\"100px\" align=\"left\" float=\"left\"/>\n",
    "<br><br>\n",
    "\n",
    "## Q9 (8%)\n",
    "\n",
    "We're almost done! It's time to write a nice little wrapper function that will use our model to classify unlabeled tweets from tweets_test.csv file. "
   ]
  },
  {
   "cell_type": "code",
   "execution_count": 20,
   "metadata": {
    "colab": {},
    "colab_type": "code",
    "id": "qth7DPekYPuY"
   },
   "outputs": [],
   "source": [
    "# 7% credits\n",
    "def classify_tweets(tfidf, classifier, unlabeled_tweets):\n",
    "    \"\"\" predicts class labels for raw tweet text\n",
    "    Inputs:\n",
    "        tfidf: sklearn.feature_extraction.text.TfidfVectorizer: the TfidfVectorizer object used on training data\n",
    "        classifier: sklearn.svm.SVC: classifier learned\n",
    "        unlabeled_tweets: pd.DataFrame: tweets read from tweets_test.csv\n",
    "    Outputs:\n",
    "        numpy.ndarray(int): dense binary vector of class labels for unlabeled tweets\n",
    "    \"\"\"\n",
    "#     processed_texts = [' '.join(tweet) for tweet in unlabeled_tweets['text'].apply(lambda x: process(x))]\n",
    "\n",
    "    X_unlabeled = tfidf.transform(unlabeled_tweets['text'])\n",
    "    \n",
    "    predictions = classifier.predict(X_unlabeled)\n",
    "    \n",
    "    return predictions"
   ]
  },
  {
   "cell_type": "code",
   "execution_count": 22,
   "metadata": {
    "colab": {},
    "colab_type": "code",
    "id": "KKNMwVVgYPua"
   },
   "outputs": [
    {
     "name": "stdout",
     "output_type": "stream",
     "text": [
      "[1 1 1 1 1 1 1 1 1 1 1 1 1 1 1 1 1 1 1 1 1 1 1 1 1 1 1 1 1 1 1 1 1 1 1 1 1\n",
      " 1 1 1 1 1 1 1 1 1 1 1 1 1 1 1 1 1 1 1 1 1 1 1 1 1 1 1 1 1 1 1 1 1 1 1 1 1\n",
      " 1 1 1 1 1 1 1 1 1 1 1 1 1 1 1 1 1 1 1 1 1 1 1 1 1 1 1 1 1 1 1 1 1 1 1 1 1\n",
      " 1 1 1 1 1 1 1 1 1 1 1 1 1 1 1 1 1 1 1 1 1 1 1 1 1 1 1 1 1 1 1 1 1 1 1 1 1\n",
      " 1 1 1 1 1 1 1 1 1 1 1 1 1 1 1 1 1 1 1 1 1 1 1 1 1 1 1 1 1 1 1 1 1 1 1 1 1\n",
      " 1 1 1 1 1 1 1 1 1 1 1 1 1 1 1 1 1 1 1 1 1 1 1 1 1 1 1 1 1 1 1 1 1 1 1 1 1\n",
      " 1 1 1 1 1 1 1 1 1 1 1 1 1 1 1 1 1 1 1 1 1 1 1 1 1 1 1 1 1 1 1 1 1 1 1 1 1\n",
      " 1 1 1 1 1 1 1 1 1 1 1 1 1 1 1 1 1 1 1 1 1 1 1 1 1 1 1 1 1 1 1 1 1 1 1 1 1\n",
      " 1 1 1 1 1 1 1 1 1 1 1 1 1 1 1 1 1 1 1 1 1 1 1 1 1 1 1 1 1 1 1 1 1 1 1 1 1\n",
      " 1 1 1 1 1 1 1 1 1 1 1 1 1 1 1 1 1 1 1 0 1 1 1 1 1 1 1 1 1 1 1 1 1 1 1 1 1\n",
      " 1 1 1 1 1 1 1 1 1 1 1 1 1 1 1 1 1 1 1 1 1 1 1 1 1 1 1 1 1 1 1 1 1 1 1 1 1\n",
      " 1 1 1 1 1 1 1 1 1 1 1 1 1 1 1 1 1 1 1 1 1 1 1 1 1 1 1 1 1 1 1 1 1 1 1 1 1\n",
      " 1 1 1 1 1 1 1 1 1 1 1 1 1 1 1 1 1 1 1 1 1 1 1 1 1 1 1 1 1 1 1 1 1 1 1 1 1\n",
      " 1 1 1 1 1 1 1 1 1 1 1 1 1 1 1 1 1 1 1 1 1 1 1 1 1 1 1 1 1 1 1 1 1 1 1 1 1\n",
      " 1 1 1 1 1 1 1 1 1 1 1 1 1 1 1 1 1 1 1 1 1 1 1 1 1 1 1 1 1 1 1 1 1 1 1 1 1\n",
      " 1 1 1 1 1 1 1 1 1 1 1 1 1 1 1 1 1 1 1 1 1 1 1 1 1 1 1 1 1 1 1 1 1 1 1 1 1\n",
      " 1 1 1 1 1 1 1 1 1 1 1 1 1 1 1 1 1 1 1 1 1 1 1 1 1 1 1 1 1 1 1 1 1 1 1 1 1\n",
      " 0 1 1 1 1 1 1 1 0 1 1 1 1 1 1 1 1 1 1 1 1 1 1 1 1 1 1 1 1 1 1 1 1 1 1 1 1\n",
      " 1 1 1 1 1 1 1 1 1 1 1 1 1 1 1 1 1 1 1 1 1 1 1 1 1 1 1 1 1 1 1 1 1 1 1 1 1\n",
      " 1 1 1 1 1 1 1 1 1 1 1 1 1 1 1 1 1 1 1 1 1 1 1 1 1 1 1 1 1 1 1 1 1 1 1 1 1\n",
      " 1 1 1 1 1 1 1 1 1 1 1 1 1 1 1 1 1 1 1 1 1 1 1 1 1 1 1 1 1 1 1 1 1 1 1 1 1\n",
      " 1 1 1 1 1 1 1 1 1 1 1 1 1 1 0 1 1 1 1 1 1 1 1 1 1 1 1 1 1 1 1 1 1 1 1 1 1\n",
      " 1 1 1 1 1 1 1 1 1 1 1 1 1 1 1 1 1 1 1 1 1 1 1 1 1 1 1 1 1 1 1 1 1 1 1 1 1\n",
      " 1 1 1 1 1 1 1 1 1 1 1 1 1 1 1 1 1 1 1 1 0 1 1 1 1 1 1 1 1 1 1 1 1 1 1 1 1\n",
      " 1 1 1 1 1 1 1 1 1 1 1 1 1 1 1 1 1 1 1 1 1 1 1 1 1 1 1 1 1 1 1 1 1 1 1 1 1\n",
      " 1 1 1 1 1 1 1 1 1 1 1 1 1 0 1 1 1 1 1 1 1 1 1 1 1 1 1 1 1 1 1 1 1 1 1 1 1\n",
      " 1 1 1 1 1 1 1 1 1 1 1 1 1 1 1 1 1 1 1 1 1 1 1 1 1 1 1 1 1 1 1 1 1 1 1 1 1\n",
      " 1]\n"
     ]
    },
    {
     "data": {
      "text/plain": [
       "0.9963579604578564"
      ]
     },
     "execution_count": 22,
     "metadata": {},
     "output_type": "execute_result"
    }
   ],
   "source": [
    "# Fill in best classifier in your function and re-trian your classifier using all training data\n",
    "# Get predictions for unlabelled test data and print it\n",
    "# 1% credits\n",
    "classifier = learn_classifier(X, y, best_kernel)\n",
    "unlabeled_tweets = pd.read_csv(\"tweets_test.csv\", na_filter=False)\n",
    "y_pred = classify_tweets(tfidf, classifier, unlabeled_tweets)\n",
    "print(y_pred)\n",
    "\n",
    "svm_accuracy = evaluate_classifier (classifier, X, y)\n",
    "svm_accuracy"
   ]
  },
  {
   "cell_type": "markdown",
   "metadata": {
    "colab_type": "text",
    "id": "oeuZhVR2OhyV"
   },
   "source": [
    "Did your SVM classifier perform better than the baseline (while evaluating with training data)? Explain in 1-2 sentences how you reached this conclusion.\n",
    "\n",
    "Yes my SVM performed better than baseline as Baseline had accuracy of about 0.9544456006474737 but my SVM had an accuracy of baout 0.9963579604578564.\n"
   ]
  },
  {
   "cell_type": "markdown",
   "metadata": {},
   "source": [
    "## D. Can Large Language Models Do My Homework? [20%]\n",
    "\n",
    "Large language models have quickly advanced from often being \"laughably bad\" to \"quite capable\" for many tasks. Now, we will explore OpenAI LLM and assess the performance of LLM with our previous tweet classification machine learning model.\n",
    "\n",
    "In order to use OpenAI API, you need to install [`openai`](https://pypi.org/project/openai/) python module into your `cs418env`. You can install it using the command: `pip install openai`. After installing it into your `cs418env`, please researt the kernel form this notebook or close and open the notebook to take effect of the installation. Now, we can import the `openai` python module."
   ]
  },
  {
   "cell_type": "code",
   "execution_count": 23,
   "metadata": {},
   "outputs": [],
   "source": [
    "import openai\n",
    "import time\n",
    "from openai import OpenAI\n",
    "np.random.seed(4200)"
   ]
  },
  {
   "cell_type": "markdown",
   "metadata": {},
   "source": [
    "\n",
    "## Setup OpenAI/ChatGPT API\n",
    "\n",
    "Visit this [link](https://platform.openai.com/) and create an OpenAI account.\n",
    "\n",
    "Click on the upper right corner icon once logged in and select \"View API Keys\" in OpenAI. Generate keys and copy/paste them into a file named 'openai-key.txt' in your homework 3 directory. (Note: we are taking these steps to keep your keys private and excluded from your submitted PDF/files.)"
   ]
  },
  {
   "cell_type": "code",
   "execution_count": 24,
   "metadata": {},
   "outputs": [],
   "source": [
    "with open('openai-key.txt', 'r') as file:\n",
    "    openai_key = file.read().rstrip()"
   ]
  },
  {
   "cell_type": "markdown",
   "metadata": {},
   "source": [
    "Now, we will set up a client for the OpenAI API with the api key."
   ]
  },
  {
   "cell_type": "code",
   "execution_count": 25,
   "metadata": {},
   "outputs": [],
   "source": [
    "client = OpenAI(api_key=openai_key)"
   ]
  },
  {
   "cell_type": "markdown",
   "metadata": {},
   "source": [
    "Next are defined function for calling OpenAI/ChatGPT API endpoints for chat completions."
   ]
  },
  {
   "cell_type": "code",
   "execution_count": 26,
   "metadata": {},
   "outputs": [],
   "source": [
    "def chatGPT(client, input_string, prompt=\"You are a helpful assistant.\", model=\"gpt-3.5-turbo-0125\"):\n",
    "    response = client.chat.completions.create(\n",
    "        model=model,\n",
    "        messages=[\n",
    "            {\n",
    "              \"role\": \"system\",\n",
    "              \"content\": prompt\n",
    "            },\n",
    "            {\n",
    "              \"role\": \"user\",\n",
    "              \"content\": input_string\n",
    "            }\n",
    "        ],\n",
    "        temperature=0.7,\n",
    "        max_tokens=2048,\n",
    "        top_p=1\n",
    "    )\n",
    "    return response.choices[0].message.content"
   ]
  },
  {
   "cell_type": "markdown",
   "metadata": {},
   "source": [
    "Next is the code that generates a prompt for the OpenAI endpoint by combining an initial prompt with a numbered list of tweets. The prompt and number of tweets included are returned."
   ]
  },
  {
   "cell_type": "code",
   "execution_count": 27,
   "metadata": {},
   "outputs": [],
   "source": [
    "def generate_prompt(initial_prompt, tweets, length_limit):\n",
    "    prompt = initial_prompt\n",
    "    index = 0\n",
    "    for tweet in tweets:\n",
    "        if len(prompt) + len(tweet) + 5 < length_limit:\n",
    "            index = index + 1\n",
    "            prompt = prompt + \" \\n{}. \".format(index) + tweet\n",
    "    return prompt, index"
   ]
  },
  {
   "cell_type": "markdown",
   "metadata": {},
   "source": [
    "<img src=\"bikeshare.png\" width=\"100px\" align=\"left\" float=\"left\"/>\n",
    "<br><br><br>\n",
    "\n",
    "## Q10: Defining a Prediction Prompt (3%)\n",
    "\n",
    "Define an appropriate prompt that requests a single value of 'R' or 'D' for Republican or Democrat so that LLM produces well-structured prediction label outputs for tweets."
   ]
  },
  {
   "cell_type": "code",
   "execution_count": 28,
   "metadata": {},
   "outputs": [
    {
     "name": "stdout",
     "output_type": "stream",
     "text": [
      "\n",
      "For each tweet listed below, classify its political inclination based on its content. Respond with a single character: 'R' for Republican or 'D' for Democrat. Please format your response with the tweet number followed by the classification. For example, \"1: R\" or \"2: D\".\n",
      " \n",
      "1. Trump's calling for trillion dollar tax cuts for Wall Street. It's time for them to pay their fair share. \n",
      "2. Obama is losing credibility with Syrian opposition leaders https://t.co/bANRRu2ktN \n",
      "3. Positive relationships between faith groups & law enforcement build more resilient communities https://t.co/6pfrSKVE72 \n",
      "4. Tune in now to watch @JoeBiden hit the trail for Hillary in Ohio: https://t.co/FjCws9BTYy \n",
      "5. Happy Birthday to a great President of the United States, George H. W. Bush! https://t.co/YOIB2eFfHG\n"
     ]
    }
   ],
   "source": [
    "predict_initial_prompt = \"\"\"\n",
    "For each tweet listed below, classify its political inclination based on its content. Respond with a single character: 'R' for Republican or 'D' for Democrat. Please format your response with the tweet number followed by the classification. For example, \"1: R\" or \"2: D\".\n",
    "\"\"\"\n",
    "\n",
    "some_tweets = [\n",
    "    \"Trump's calling for trillion dollar tax cuts for Wall Street. It's time for them to pay their fair share.\",\n",
    "    \"Obama is losing credibility with Syrian opposition leaders https://t.co/bANRRu2ktN\",\n",
    "    \"Positive relationships between faith groups & law enforcement build more resilient communities https://t.co/6pfrSKVE72\",\n",
    "    \"Tune in now to watch @JoeBiden hit the trail for Hillary in Ohio: https://t.co/FjCws9BTYy\",\n",
    "    \"Happy Birthday to a great President of the United States, George H. W. Bush! https://t.co/YOIB2eFfHG\"\n",
    "]\n",
    "\n",
    "# Assuming `generate_prompt` and `chatGPT` functions are defined as per your initial setup,\n",
    "# and that `client` is already configured with your OpenAI API key.\n",
    "prompt_predict, count = generate_prompt(predict_initial_prompt, some_tweets, 2048)\n",
    "\n",
    "# Assuming you have a display mechanism or just print if `display` is not available\n",
    "print(prompt_predict)"
   ]
  },
  {
   "cell_type": "markdown",
   "metadata": {},
   "source": [
    "### Creating the Prediction Pipeline\n",
    "\n",
    "In this part, we will construct the prediction pipeline that:  \n",
    "* Splits a test set of tweets into a list of prompts.\n",
    "* Parses the responses into predictions.\n",
    "\n",
    "First, choose a particular LLM model that you would like to use. We have set `gpt-3.5-turbo-0125` model by default in our `chatGPT` function . You can use this model for the rest of the portion of this assignment but you are also free to choose any other LLM model from `OpenAI` if you want. Note that different models have different costs, so choose one that meets your budget. You can see different chat completions models [here](https://platform.openai.com/docs/models). \n"
   ]
  },
  {
   "cell_type": "code",
   "execution_count": 29,
   "metadata": {},
   "outputs": [],
   "source": [
    "# replace the model name of your choice\n",
    "model_name = \"gpt-3.5-turbo-0125\""
   ]
  },
  {
   "cell_type": "markdown",
   "metadata": {},
   "source": [
    "<img src=\"bikeshare.png\" width=\"100px\" align=\"left\" float=\"left\"/>\n",
    "<br><br><br>\n",
    "\n",
    "## Q11. Creating LLM prompts from tweets (5%).\n",
    "\n",
    "Using your `predict_initial_prompt` and repeated calls to `generate_prompt`, complete the function below that produces a list of LLM prompts given a list of tweets."
   ]
  },
  {
   "cell_type": "code",
   "execution_count": 30,
   "metadata": {},
   "outputs": [
    {
     "data": {
      "text/plain": [
       "['\\nFor each tweet listed below, classify its political inclination based on its content. Respond with a single character: \\'R\\' for Republican or \\'D\\' for Democrat. Please format your response with the tweet number followed by the classification. For example, \"1: R\" or \"2: D\".\\n \\n1. [\\'rt\\', \\'govpencein\\', \\'indot\\', \\'have\\', \\'be\\', \\'hard\\', \\'at\\', \\'work\\', \\'ensure\\', \\'the\\', \\'crossroad\\', \\'of\\', \\'america\\', \\'have\\', \\'the\\', \\'infrastructure\\', \\'to\\', \\'back\\', \\'that\\', \\'moniker\\', \\'up\\'] \\n2. [\\'today\\', \\'at\\', \\'4\\', \\'15\\', \\'pm\\', \\'et\\', \\'joekennedy\\', \\'amp\\', \\'prattwiley\\', \\'answer\\', \\'your\\', \\'voterregistrationday\\', \\'question\\', \\'share\\', \\'your\\', \\'question\\', \\'her\\'] \\n3. [\\'rt\\', \\'msnbc\\', \\'the\\', \\'first\\', \\'in\\', \\'the\\', \\'south\\', \\'democratic\\', \\'candidate\\', \\'forum\\', \\'be\\', \\'live\\', \\'now\\', \\'stream\\', \\'it\\', \\'live\\', \\'at\\', \\'msnbc2016\\'] \\n4. [\\'nebraska\\', \\'votetrump\\', \\'today\\', \\'makeamericagreatagain\\', \\'trump2016\\'] \\n5. [\\'bush\\', \\'administration\\', \\'foreign\\', \\'policy\\', \\'position\\', \\'foreign\\', \\'policy\\', \\'position\\', \\'at\\', \\'gopdebate\\', \\'transformationtuesday\\'] \\n6. [\\'democrat\\', \\'will\\', \\'continue\\', \\'to\\', \\'stand\\', \\'with\\', \\'woman\\', \\'and\\', \\'fight\\', \\'for\\', \\'their\\', \\'right\\', \\'to\\', \\'a\\', \\'safe\\', \\'and\\', \\'legal\\', \\'abortion\\'] \\n7. [\\'the\\', \\'nra\\', \\'s\\', \\'donald\\', \\'trump\\'] \\n8. [\\'the\\', \\'startyourenginestour\\', \\'make\\', \\'it\\', \\'to\\', \\'jeffersonville\\'] \\n9. [\\'true\\', \\'in\\', \\'2008\\', \\'true\\', \\'today\\'] \\n10. [\\'last\\', \\'night\\', \\'gopdebate\\', \\'prove\\', \\'what\\', \\'at\\', \\'risk\\', \\'in\\', \\'2016\\', \\'tune\\', \\'in\\', \\'sunday\\', \\'for\\', \\'the\\', \\'demdebate\\'] \\n11. [\\'ampliemos\\', \\'la\\', \\'oportunidades\\', \\'para\\', \\'todos\\', \\'entérate\\', \\'de\\', \\'nuestro\\', \\'plan\\', \\'para\\', \\'la\\', \\'comunidad\\', \\'latina\\'] \\n12. [\\'two\\', \\'minute\\', \\'of\\', \\'your\\', \\'time\\', \\'to\\', \\'help\\', \\'change\\', \\'washington\\', \\'weigh\\', \\'in\\', \\'now\\'] \\n13. [\\'rt\\', \\'govpencein\\', \\'more\\', \\'than\\', \\'half\\', \\'a\\', \\'million\\', \\'veteran\\', \\'call\\', \\'indiana\\', \\'home\\', \\'to\\', \\'all\\', \\'of\\', \\'our\\', \\'hoosier\\', \\'veteran\\', \\'thank\\', \\'you\\', \\'for\\', \\'your\\', \\'service\\', \\'veteransday\\'] \\n14. [\\'great\\', \\'discussion\\', \\'w\\', \\'my\\', \\'former\\', \\'urichmond\\', \\'student\\', \\'john\\', \\'mcauliff\\', \\'amp\\', \\'a\\', \\'group\\', \\'of\\', \\'impressive\\', \\'fellow\\', \\'from\\', \\'coro\\', \\'pittsburgh\\']',\n",
       " '\\nFor each tweet listed below, classify its political inclination based on its content. Respond with a single character: \\'R\\' for Republican or \\'D\\' for Democrat. Please format your response with the tweet number followed by the classification. For example, \"1: R\" or \"2: D\".\\n \\n15. [\\'a\\', \\'question\\', \\'for\\', \\'the\\', \\'gop\\', \\'from\\', \\'one\\', \\'of\\', \\'their\\', \\'own\\', \\'be\\', \\'there\\', \\'something\\', \\'wrong\\', \\'with\\', \\'be\\', \\'a\\', \\'muslim\\', \\'in\\', \\'this\\', \\'country\\'] \\n16. [\\'rt\\', \\'gopconvention\\', \\'marshablackburn\\', \\'hang\\', \\'in\\', \\'the\\', \\'digital\\', \\'loft\\', \\'at\\', \\'the\\', \\'gopconvention\\', \\'rncincle\\'] \\n17. [\\'3\\', \\'year\\', \\'after\\', \\'the\\', \\'benghazi\\', \\'attack\\'] \\n18. [\\'excite\\', \\'to\\', \\'join\\', \\'rtdnews\\', \\'today\\', \\'for\\', \\'a\\', \\'public\\', \\'square\\', \\'on\\', \\'how\\', \\'congress\\', \\'amp\\', \\'the\\', \\'president\\', \\'make\\', \\'our\\', \\'nation\\', \\'s\\', \\'most\\', \\'impt\\', \\'decision\\', \\'when\\', \\'to\\', \\'go\\', \\'to\\', \\'war\\'] \\n19. [\\'obama\\', \\'s\\', \\'speech\\', \\'be\\', \\'more\\', \\'geared\\', \\'to\\', \\'play\\', \\'catchup\\', \\'to\\', \\'the\\', \\'national\\', \\'mood\\', \\'on\\', \\'terrorism\\', \\'and\\', \\'fix\\', \\'a\\', \\'political\\', \\'problem\\'] \\n20. [\\'look\\', \\'forward\\', \\'to\\', \\'join\\', \\'mikemosswtop\\', \\'amp\\', \\'joanjwtop\\', \\'at\\', \\'8\\', \\'40am\\', \\'for\\', \\'a\\', \\'discussion\\', \\'on\\', \\'my\\', \\'pre\\', \\'k\\', \\'bill\\', \\'amp\\', \\'more\\', \\'tune\\', \\'in\\'] \\n21. [\\'knight276\\', \\'c4constitution\\', \\'trump\\', \\'right\\', \\'again\\', \\'with\\', \\'cruz\\', \\'you\\', \\'lose\\', \\'nobody\\', \\'support\\', \\'canuck\\', \\'cruz\\', \\'makeamericagreatagain\\', \\'trump2016\\'] \\n22. [\\'rt\\', \\'indiana2016\\', \\'this\\', \\'week\\', \\'indiana\\', \\'bicentennial\\', \\'minute\\', \\'be\\', \\'on\\', \\'abraham\\', \\'lincoln\\', \\'who\\', \\'grow\\', \\'up\\', \\'in\\', \\'indiana\\'] \\n23. [\\'enough\\', \\'of\\', \\'the\\', \\'scandal\\', \\'and\\', \\'lie\\', \\'demsinphilly\\', \\'enoughclinton\\'] \\n24. [\\'congrats\\', \\'to\\', \\'michelle\\', \\'janine\\', \\'howard\\', \\'on\\', \\'become\\', \\'the\\', \\'first\\', \\'woman\\', \\'to\\', \\'attain\\', \\'the\\', \\'rank\\', \\'of\\', \\'four\\', \\'star\\', \\'admiral\\', \\'in\\', \\'the\\', \\'usnavy\\', \\'238\\', \\'year\\', \\'history\\'] \\n25. [\\'rt\\', \\'danscavino\\', \\'join\\', \\'realdonaldtrump\\', \\'on\\', \\'his\\', \\'official\\', \\'social\\', \\'medium\\', \\'platform\\', \\'during\\', \\'tonight\\', \\'debate\\', \\'a\\', \\'teamtrump\\', \\'manage\\', \\'rapid\\', \\'response\\'] \\n26. [\\'national\\', \\'review\\', \\'rnc\\', \\'chairman\\', \\'reince\\', \\'priebus\\', \\'have\\', \\'leave\\', \\'his\\', \\'mark\\', \\'on\\', \\'the\\', \\'republican\\', \\'party\\']',\n",
       " '\\nFor each tweet listed below, classify its political inclination based on its content. Respond with a single character: \\'R\\' for Republican or \\'D\\' for Democrat. Please format your response with the tweet number followed by the classification. For example, \"1: R\" or \"2: D\".\\n \\n27. [\\'must\\', \\'read\\', \\'rtdnews\\', \\'piece\\', \\'on\\', \\'the\\', \\'positive\\', \\'impact\\', \\'fastc\\', \\'will\\', \\'have\\', \\'on\\', \\'blackstone\\', \\'amp\\', \\'entire\\', \\'region\\', \\'surround\\', \\'ft\\', \\'pickett\\'] \\n28. [\\'i\\', \\'have\\', \\'the\\', \\'pleasure\\', \\'of\\', \\'meet\\', \\'the\\', \\'wonderful\\', \\'young\\', \\'men\\', \\'and\\', \\'woman\\', \\'of\\', \\'the\\', \\'u\\', \\'navy\\', \\'sea\\', \\'cadet\\', \\'corp\\', \\'fly\\', \\'tiger\\'] \\n29. [\\'politifact\\', \\'fact\\', \\'check\\', \\'mostly\\', \\'false\\', \\'hillary\\', \\'email\\', \\'request\\', \\'be\\', \\'reactive\\', \\'not\\', \\'proactive\\'] \\n30. [\\'celebrate\\', \\'the\\', \\'power\\', \\'of\\', \\'woman\\', \\'in\\', \\'politics\\', \\'rsvp\\', \\'to\\', \\'all\\', \\'in\\', \\'together\\', \\'myvoice\\', \\'event\\', \\'feb\\', \\'29\\'] \\n31. [\\'more\\', \\'than\\', \\'50\\', \\'million\\', \\'american\\', \\'be\\', \\'live\\', \\'with\\', \\'a\\', \\'disability\\', \\'vote\\', \\'for\\', \\'the\\', \\'candidate\\', \\'who\\', \\'support\\', \\'and\\', \\'respect\\', \\'them\\'] \\n32. [\\'rt\\', \\'dwstweets\\', \\'this\\', \\'thanksgiving\\', \\'im\\', \\'thankful\\', \\'for\\', \\'all\\', \\'the\\', \\'progress\\', \\'weve\\', \\'make\\', \\'under\\', \\'potus\\', \\'thanksobama\\'] \\n33. [\\'wvprimary\\', \\'votetrump\\', \\'trump2016\\'] \\n34. [\\'rt\\', \\'indgop\\', \\'2\\', \\'2\\', \\'of\\', \\'how\\', \\'gop\\', \\'fiscal\\', \\'policy\\', \\'make\\', \\'a\\', \\'difference\\', \\'in\\', \\'our\\', \\'economy\\', \\'spox\\', \\'vetstrategies\\'] \\n35. [\\'trump\\', \\'nuanced\\', \\'plan\\', \\'for\\', \\'combat\\', \\'the\\', \\'very\\', \\'complicated\\', \\'topic\\', \\'of\\', \\'isi\\', \\'betterthanthis\\'] \\n36. [\\'she\\', \\'doesnt\\', \\'just\\', \\'see\\', \\'one\\', \\'america\\', \\'she\\', \\'see\\', \\'all\\', \\'of\\', \\'america\\', \\'amp\\', \\'know\\', \\'that\\', \\'we\\', \\'need\\', \\'all\\', \\'of\\', \\'u\\', \\'corybooker\\', \\'on\\', \\'hillary\\'] \\n37. [\\'i\\', \\'would\\', \\'have\\', \\'have\\', \\'million\\', \\'of\\', \\'vote\\', \\'more\\', \\'in\\', \\'the\\', \\'primary\\', \\'than\\', \\'crook\\', \\'hillary\\', \\'if\\', \\'i\\', \\'only\\', \\'have\\', \\'one\\', \\'opponent\\', \\'instead\\', \\'of\\', \\'sixteen\\', \\'broke\\', \\'record\\'] \\n38. [\\'saturday\\', \\'be\\', \\'the\\', \\'last\\', \\'day\\', \\'for\\', \\'early\\', \\'voting\\', \\'in\\', \\'va\\', \\'learn\\', \\'more\\', \\'about\\', \\'how\\', \\'to\\', \\'vote\\', \\'tomorrow\\', \\'by\\', \\'visit\\']',\n",
       " '\\nFor each tweet listed below, classify its political inclination based on its content. Respond with a single character: \\'R\\' for Republican or \\'D\\' for Democrat. Please format your response with the tweet number followed by the classification. For example, \"1: R\" or \"2: D\".\\n \\n39. [\\'thank\\', \\'you\\', \\'kenansville\\', \\'north\\', \\'carolina\\', \\'remember\\', \\'on\\', \\'november\\', \\'8th\\', \\'that\\', \\'special\\', \\'interest\\', \\'gravy\\', \\'train\\', \\'be\\', \\'come\\', \\'to\\', \\'a\\'] \\n40. [\\'rt\\', \\'govpencein\\', \\'icymi\\', \\'a\\', \\'inlegis\\', \\'reconvenes\\', \\'today\\', \\'weve\\', \\'roll\\', \\'out\\', \\'our\\', \\'govagenda\\', \\'prioritize\\', \\'job\\', \\'road\\', \\'ed\\', \\'amp\\', \\'healthcare\\'] \\n41. [\\'rt\\', \\'ignite\\', \\'national\\', \\'tell\\', \\'a\\', \\'girl\\', \\'to\\', \\'run\\', \\'for\\', \\'office\\', \\'declareyourambition\\', \\'at\\'] \\n42. [\\'let\\', \\'america\\', \\'be\\', \\'that\\', \\'great\\', \\'strong\\', \\'land\\', \\'of\\', \\'love\\', \\'that\\', \\'be\\', \\'more\\', \\'than\\', \\'poetry\\', \\'that\\', \\'s\\', \\'a\\', \\'prayer\\', \\'hillary\\', \\'quote\\', \\'langston\\', \\'hughes\\'] \\n43. [\\'i\\', \\'will\\', \\'make\\', \\'our\\', \\'military\\', \\'so\\', \\'big\\', \\'powerful\\', \\'amp\\', \\'strong\\', \\'that\\', \\'no\\', \\'one\\', \\'will\\', \\'mess\\', \\'with\\', \\'u\\', \\'trump2016\\'] \\n44. [\\'hillaryclinton\\', \\'2008\\', \\'campaign\\', \\'and\\', \\'supporter\\', \\'traffic\\', \\'in\\', \\'rumor\\', \\'about\\', \\'obama\\', \\'heritage\\', \\'debatenight\\'] \\n45. [\\'great\\', \\'to\\', \\'hear\\', \\'goochland\\', \\'county\\', \\'resident\\', \\'charles\\', \\'personal\\', \\'story\\', \\'at\\', \\'today\\', \\'senateaging\\', \\'hear\\', \\'on\\', \\'technology\\', \\'help\\', \\'senior\\'] \\n46. [\\'we\\', \\'dont\\', \\'want\\', \\'another\\', \\'clinton\\', \\'in\\', \\'the\\', \\'white\\', \\'house\\', \\'pledge\\', \\'to\\', \\'stophillary\\'] \\n47. [\\'in\\', \\'ten\\', \\'year\\', \\'we\\', \\'can\\', \\'generate\\', \\'enough\\', \\'renewable\\', \\'energy\\', \\'to\\', \\'power\\', \\'every\\', \\'home\\', \\'in\\', \\'america\\', \\'earthday\\'] \\n48. [\\'gov\\', \\'kasich\\', \\'of\\', \\'ohio\\', \\'just\\', \\'state\\', \\'on\\', \\'a\\', \\'morning\\', \\'show\\', \\'that\\', \\'he\\', \\'doesnt\\', \\'watch\\', \\'politics\\', \\'or\\', \\'anything\\', \\'on\\', \\'television\\', \\'he\\', \\'only\\', \\'watch\\', \\'the\\', \\'golfchannel\\'] \\n49. [\\'sander\\', \\'sweep\\', \\'all\\', \\'3\\', \\'weekend\\', \\'primary\\', \\'by\\', \\'wide\\', \\'margin\\', \\'give\\', \\'his\\', \\'camp\\', \\'another\\', \\'boost\\', \\'of\\', \\'momentum\\', \\'before\\', \\'wi\\', \\'next\\', \\'week\\']',\n",
       " '\\nFor each tweet listed below, classify its political inclination based on its content. Respond with a single character: \\'R\\' for Republican or \\'D\\' for Democrat. Please format your response with the tweet number followed by the classification. For example, \"1: R\" or \"2: D\".\\n \\n50. [\\'t\\', \\'he\\', \\'rnc\\', \\'raise\\', \\'about\\', \\'twice\\', \\'as\\', \\'much\\', \\'a\\', \\'it\\', \\'democratic\\', \\'counterpart\\', \\'and\\', \\'have\\', \\'nearly\\', \\'2\\', \\'million\\', \\'more\\', \\'on\\', \\'hand\\']']"
      ]
     },
     "execution_count": 30,
     "metadata": {},
     "output_type": "execute_result"
    }
   ],
   "source": [
    "def generate_prompts(initial_prompt, tweets, length_limit):\n",
    "    prompts = []\n",
    "    \n",
    "    current_prompt = initial_prompt\n",
    "    index = 0\n",
    "\n",
    "    for tweet in tweets:\n",
    "        # Adding 4 accounts for the length of \" \\nX. \", where X is the tweet number\n",
    "        potential_length = len(current_prompt) + len(tweet) + 4 + len(str(index + 1))\n",
    "        \n",
    "        # Check if adding the next tweet would exceed the length limit\n",
    "        if potential_length < length_limit:\n",
    "            # If not, add the tweet to the current prompt\n",
    "            current_prompt += f\" \\n{index + 1}. {tweet}\"\n",
    "            index += 1\n",
    "        else:\n",
    "            # If it would exceed, finalize the current prompt and start a new one\n",
    "            prompts.append(current_prompt)\n",
    "            current_prompt = initial_prompt + f\" \\n{index + 1}. {tweet}\"\n",
    "            index += 1\n",
    "    \n",
    "    # Don't forget to add the last prompt if it's not empty\n",
    "    if current_prompt != initial_prompt:\n",
    "        prompts.append(current_prompt)\n",
    "        \n",
    "    return prompts\n",
    "    \n",
    "sample_tweets = tweets.sample(50)\n",
    "prompts = generate_prompts(predict_initial_prompt, sample_tweets[\"text\"].to_list(), 2048)\n",
    "prompts"
   ]
  },
  {
   "cell_type": "markdown",
   "metadata": {},
   "source": [
    "<img src=\"bikeshare.png\" width=\"100px\" align=\"left\" float=\"left\"/>\n",
    "<br><br><br>\n",
    "\n",
    "## Q12. Converting LLM Responses to Predictions (5%)\n",
    "\n",
    "Modify the following function to convert the LLM's response into a list of predictions for each provided tweet. Define test response strings like those produced by your particular LLM model to parse.\n",
    "\n",
    "For example, if your LLM output were strictly strings like \"DRRDRD\" then each character would be directly converted into a prediction label."
   ]
  },
  {
   "cell_type": "code",
   "execution_count": 31,
   "metadata": {},
   "outputs": [
    {
     "name": "stdout",
     "output_type": "stream",
     "text": [
      "['D', 'R', 'R', 'D', 'R', 'D']\n",
      "['D', 'R', 'R', 'D', 'R', 'D']\n"
     ]
    }
   ],
   "source": [
    "def response_to_predictions(response_string):\n",
    "    predictions = []\n",
    "\n",
    "    # Check for structured response format with numbering\n",
    "    if ':' in response_string:\n",
    "        lines = response_string.strip().split('\\n')\n",
    "        for line in lines:\n",
    "            # Extract the prediction character, assuming it's the last character after stripping whitespace\n",
    "            prediction = line.strip().split(':')[-1].strip()\n",
    "            predictions.append(prediction)\n",
    "    else:\n",
    "        # Handle unstructured response, assuming predictions are separated by spaces or concatenated\n",
    "        response_string_clean = response_string.replace(\" \", \"\").strip()\n",
    "        predictions = [char for char in response_string_clean]\n",
    "\n",
    "    return predictions\n",
    "\n",
    "\n",
    "# Test your response_to_predictions function here\n",
    "response1 = \"D R R D R D\"\n",
    "values1 = response_to_predictions(response1)\n",
    "print(values1)\n",
    "\n",
    "response2 = \"1: D\\n2: R\\n3: R\\n4: D\\n5: R\\n6: D\"\n",
    "values2 = response_to_predictions(response2)\n",
    "print(values2)"
   ]
  },
  {
   "cell_type": "markdown",
   "metadata": {},
   "source": [
    "<img src=\"bikeshare.png\" width=\"100px\" align=\"left\" float=\"left\"/>\n",
    "<br><br><br>\n",
    "\n",
    "## Q13. Processing Prompts and Responses (2%)\n",
    "\n",
    "Now, we will define function for processing prompts and produce predictions using OpenAI API. Then, we will produce predictions for the 50 sampled tweets."
   ]
  },
  {
   "cell_type": "code",
   "execution_count": 32,
   "metadata": {},
   "outputs": [
    {
     "name": "stdout",
     "output_type": "stream",
     "text": [
      "Processing prompt:\n",
      " \n",
      "For each tweet listed below, classify its political inclination based on its content. Respond with a single character: 'R' for Republican or 'D' for Democrat. Please format your response with the tweet number followed by the classification. For example, \"1: R\" or \"2: D\".\n",
      " \n",
      "1. ['rt', 'govpencein', 'indot', 'have', 'be', 'hard', 'at', 'work', 'ensure', 'the', 'crossroad', 'of', 'america', 'have', 'the', 'infrastructure', 'to', 'back', 'that', 'moniker', 'up'] \n",
      "2. ['today', 'at', '4', '15', 'pm', 'et', 'joekennedy', 'amp', 'prattwiley', 'answer', 'your', 'voterregistrationday', 'question', 'share', 'your', 'question', 'her'] \n",
      "3. ['rt', 'msnbc', 'the', 'first', 'in', 'the', 'south', 'democratic', 'candidate', 'forum', 'be', 'live', 'now', 'stream', 'it', 'live', 'at', 'msnbc2016'] \n",
      "4. ['nebraska', 'votetrump', 'today', 'makeamericagreatagain', 'trump2016'] \n",
      "5. ['bush', 'administration', 'foreign', 'policy', 'position', 'foreign', 'policy', 'position', 'at', 'gopdebate', 'transformationtuesday'] \n",
      "6. ['democrat', 'will', 'continue', 'to', 'stand', 'with', 'woman', 'and', 'fight', 'for', 'their', 'right', 'to', 'a', 'safe', 'and', 'legal', 'abortion'] \n",
      "7. ['the', 'nra', 's', 'donald', 'trump'] \n",
      "8. ['the', 'startyourenginestour', 'make', 'it', 'to', 'jeffersonville'] \n",
      "9. ['true', 'in', '2008', 'true', 'today'] \n",
      "10. ['last', 'night', 'gopdebate', 'prove', 'what', 'at', 'risk', 'in', '2016', 'tune', 'in', 'sunday', 'for', 'the', 'demdebate'] \n",
      "11. ['ampliemos', 'la', 'oportunidades', 'para', 'todos', 'entérate', 'de', 'nuestro', 'plan', 'para', 'la', 'comunidad', 'latina'] \n",
      "12. ['two', 'minute', 'of', 'your', 'time', 'to', 'help', 'change', 'washington', 'weigh', 'in', 'now'] \n",
      "13. ['rt', 'govpencein', 'more', 'than', 'half', 'a', 'million', 'veteran', 'call', 'indiana', 'home', 'to', 'all', 'of', 'our', 'hoosier', 'veteran', 'thank', 'you', 'for', 'your', 'service', 'veteransday'] \n",
      "14. ['great', 'discussion', 'w', 'my', 'former', 'urichmond', 'student', 'john', 'mcauliff', 'amp', 'a', 'group', 'of', 'impressive', 'fellow', 'from', 'coro', 'pittsburgh']\n",
      "Processing prompt:\n",
      " \n",
      "For each tweet listed below, classify its political inclination based on its content. Respond with a single character: 'R' for Republican or 'D' for Democrat. Please format your response with the tweet number followed by the classification. For example, \"1: R\" or \"2: D\".\n",
      " \n",
      "15. ['a', 'question', 'for', 'the', 'gop', 'from', 'one', 'of', 'their', 'own', 'be', 'there', 'something', 'wrong', 'with', 'be', 'a', 'muslim', 'in', 'this', 'country'] \n",
      "16. ['rt', 'gopconvention', 'marshablackburn', 'hang', 'in', 'the', 'digital', 'loft', 'at', 'the', 'gopconvention', 'rncincle'] \n",
      "17. ['3', 'year', 'after', 'the', 'benghazi', 'attack'] \n",
      "18. ['excite', 'to', 'join', 'rtdnews', 'today', 'for', 'a', 'public', 'square', 'on', 'how', 'congress', 'amp', 'the', 'president', 'make', 'our', 'nation', 's', 'most', 'impt', 'decision', 'when', 'to', 'go', 'to', 'war'] \n",
      "19. ['obama', 's', 'speech', 'be', 'more', 'geared', 'to', 'play', 'catchup', 'to', 'the', 'national', 'mood', 'on', 'terrorism', 'and', 'fix', 'a', 'political', 'problem'] \n",
      "20. ['look', 'forward', 'to', 'join', 'mikemosswtop', 'amp', 'joanjwtop', 'at', '8', '40am', 'for', 'a', 'discussion', 'on', 'my', 'pre', 'k', 'bill', 'amp', 'more', 'tune', 'in'] \n",
      "21. ['knight276', 'c4constitution', 'trump', 'right', 'again', 'with', 'cruz', 'you', 'lose', 'nobody', 'support', 'canuck', 'cruz', 'makeamericagreatagain', 'trump2016'] \n",
      "22. ['rt', 'indiana2016', 'this', 'week', 'indiana', 'bicentennial', 'minute', 'be', 'on', 'abraham', 'lincoln', 'who', 'grow', 'up', 'in', 'indiana'] \n",
      "23. ['enough', 'of', 'the', 'scandal', 'and', 'lie', 'demsinphilly', 'enoughclinton'] \n",
      "24. ['congrats', 'to', 'michelle', 'janine', 'howard', 'on', 'become', 'the', 'first', 'woman', 'to', 'attain', 'the', 'rank', 'of', 'four', 'star', 'admiral', 'in', 'the', 'usnavy', '238', 'year', 'history'] \n",
      "25. ['rt', 'danscavino', 'join', 'realdonaldtrump', 'on', 'his', 'official', 'social', 'medium', 'platform', 'during', 'tonight', 'debate', 'a', 'teamtrump', 'manage', 'rapid', 'response'] \n",
      "26. ['national', 'review', 'rnc', 'chairman', 'reince', 'priebus', 'have', 'leave', 'his', 'mark', 'on', 'the', 'republican', 'party']\n",
      "Processing prompt:\n",
      " \n",
      "For each tweet listed below, classify its political inclination based on its content. Respond with a single character: 'R' for Republican or 'D' for Democrat. Please format your response with the tweet number followed by the classification. For example, \"1: R\" or \"2: D\".\n",
      " \n",
      "27. ['must', 'read', 'rtdnews', 'piece', 'on', 'the', 'positive', 'impact', 'fastc', 'will', 'have', 'on', 'blackstone', 'amp', 'entire', 'region', 'surround', 'ft', 'pickett'] \n",
      "28. ['i', 'have', 'the', 'pleasure', 'of', 'meet', 'the', 'wonderful', 'young', 'men', 'and', 'woman', 'of', 'the', 'u', 'navy', 'sea', 'cadet', 'corp', 'fly', 'tiger'] \n",
      "29. ['politifact', 'fact', 'check', 'mostly', 'false', 'hillary', 'email', 'request', 'be', 'reactive', 'not', 'proactive'] \n",
      "30. ['celebrate', 'the', 'power', 'of', 'woman', 'in', 'politics', 'rsvp', 'to', 'all', 'in', 'together', 'myvoice', 'event', 'feb', '29'] \n",
      "31. ['more', 'than', '50', 'million', 'american', 'be', 'live', 'with', 'a', 'disability', 'vote', 'for', 'the', 'candidate', 'who', 'support', 'and', 'respect', 'them'] \n",
      "32. ['rt', 'dwstweets', 'this', 'thanksgiving', 'im', 'thankful', 'for', 'all', 'the', 'progress', 'weve', 'make', 'under', 'potus', 'thanksobama'] \n",
      "33. ['wvprimary', 'votetrump', 'trump2016'] \n",
      "34. ['rt', 'indgop', '2', '2', 'of', 'how', 'gop', 'fiscal', 'policy', 'make', 'a', 'difference', 'in', 'our', 'economy', 'spox', 'vetstrategies'] \n",
      "35. ['trump', 'nuanced', 'plan', 'for', 'combat', 'the', 'very', 'complicated', 'topic', 'of', 'isi', 'betterthanthis'] \n",
      "36. ['she', 'doesnt', 'just', 'see', 'one', 'america', 'she', 'see', 'all', 'of', 'america', 'amp', 'know', 'that', 'we', 'need', 'all', 'of', 'u', 'corybooker', 'on', 'hillary'] \n",
      "37. ['i', 'would', 'have', 'have', 'million', 'of', 'vote', 'more', 'in', 'the', 'primary', 'than', 'crook', 'hillary', 'if', 'i', 'only', 'have', 'one', 'opponent', 'instead', 'of', 'sixteen', 'broke', 'record'] \n",
      "38. ['saturday', 'be', 'the', 'last', 'day', 'for', 'early', 'voting', 'in', 'va', 'learn', 'more', 'about', 'how', 'to', 'vote', 'tomorrow', 'by', 'visit']\n",
      "Processing prompt:\n",
      " \n",
      "For each tweet listed below, classify its political inclination based on its content. Respond with a single character: 'R' for Republican or 'D' for Democrat. Please format your response with the tweet number followed by the classification. For example, \"1: R\" or \"2: D\".\n",
      " \n",
      "39. ['thank', 'you', 'kenansville', 'north', 'carolina', 'remember', 'on', 'november', '8th', 'that', 'special', 'interest', 'gravy', 'train', 'be', 'come', 'to', 'a'] \n",
      "40. ['rt', 'govpencein', 'icymi', 'a', 'inlegis', 'reconvenes', 'today', 'weve', 'roll', 'out', 'our', 'govagenda', 'prioritize', 'job', 'road', 'ed', 'amp', 'healthcare'] \n",
      "41. ['rt', 'ignite', 'national', 'tell', 'a', 'girl', 'to', 'run', 'for', 'office', 'declareyourambition', 'at'] \n",
      "42. ['let', 'america', 'be', 'that', 'great', 'strong', 'land', 'of', 'love', 'that', 'be', 'more', 'than', 'poetry', 'that', 's', 'a', 'prayer', 'hillary', 'quote', 'langston', 'hughes'] \n",
      "43. ['i', 'will', 'make', 'our', 'military', 'so', 'big', 'powerful', 'amp', 'strong', 'that', 'no', 'one', 'will', 'mess', 'with', 'u', 'trump2016'] \n",
      "44. ['hillaryclinton', '2008', 'campaign', 'and', 'supporter', 'traffic', 'in', 'rumor', 'about', 'obama', 'heritage', 'debatenight'] \n",
      "45. ['great', 'to', 'hear', 'goochland', 'county', 'resident', 'charles', 'personal', 'story', 'at', 'today', 'senateaging', 'hear', 'on', 'technology', 'help', 'senior'] \n",
      "46. ['we', 'dont', 'want', 'another', 'clinton', 'in', 'the', 'white', 'house', 'pledge', 'to', 'stophillary'] \n",
      "47. ['in', 'ten', 'year', 'we', 'can', 'generate', 'enough', 'renewable', 'energy', 'to', 'power', 'every', 'home', 'in', 'america', 'earthday'] \n",
      "48. ['gov', 'kasich', 'of', 'ohio', 'just', 'state', 'on', 'a', 'morning', 'show', 'that', 'he', 'doesnt', 'watch', 'politics', 'or', 'anything', 'on', 'television', 'he', 'only', 'watch', 'the', 'golfchannel'] \n",
      "49. ['sander', 'sweep', 'all', '3', 'weekend', 'primary', 'by', 'wide', 'margin', 'give', 'his', 'camp', 'another', 'boost', 'of', 'momentum', 'before', 'wi', 'next', 'week']\n",
      "Processing prompt:\n",
      " \n",
      "For each tweet listed below, classify its political inclination based on its content. Respond with a single character: 'R' for Republican or 'D' for Democrat. Please format your response with the tweet number followed by the classification. For example, \"1: R\" or \"2: D\".\n",
      " \n",
      "50. ['t', 'he', 'rnc', 'raise', 'about', 'twice', 'as', 'much', 'a', 'it', 'democratic', 'counterpart', 'and', 'have', 'nearly', '2', 'million', 'more', 'on', 'hand']\n"
     ]
    },
    {
     "data": {
      "text/plain": [
       "['D',\n",
       " 'R',\n",
       " 'D',\n",
       " 'R',\n",
       " 'D',\n",
       " 'R',\n",
       " 'D',\n",
       " 'R',\n",
       " 'D',\n",
       " 'R',\n",
       " 'D',\n",
       " 'R',\n",
       " 'D',\n",
       " 'R',\n",
       " 'D',\n",
       " 'R',\n",
       " 'D',\n",
       " 'R',\n",
       " 'D',\n",
       " 'R',\n",
       " 'D',\n",
       " 'R',\n",
       " 'D',\n",
       " 'R',\n",
       " 'D',\n",
       " 'R',\n",
       " 'D',\n",
       " 'R',\n",
       " 'D',\n",
       " 'R',\n",
       " 'D',\n",
       " 'R',\n",
       " 'D',\n",
       " 'R',\n",
       " 'D',\n",
       " 'R',\n",
       " 'D',\n",
       " 'R',\n",
       " 'D',\n",
       " 'R',\n",
       " 'D',\n",
       " 'R',\n",
       " 'D',\n",
       " 'R',\n",
       " 'D',\n",
       " 'R',\n",
       " 'D',\n",
       " 'R',\n",
       " 'D',\n",
       " 'R',\n",
       " 'D',\n",
       " 'R',\n",
       " 'D',\n",
       " 'R',\n",
       " 'D',\n",
       " 'R',\n",
       " 'D',\n",
       " 'R',\n",
       " 'D',\n",
       " 'R',\n",
       " 'D',\n",
       " 'R',\n",
       " 'D',\n",
       " 'R',\n",
       " 'D',\n",
       " 'R',\n",
       " 'D',\n",
       " 'R',\n",
       " 'D',\n",
       " 'R']"
      ]
     },
     "execution_count": 32,
     "metadata": {},
     "output_type": "execute_result"
    }
   ],
   "source": [
    "def tweets_to_predictions(predict_initial_prompt, tweet_list, model_name='gpt-3.5-turbo-0125', verbose=False):\n",
    "    all_predictions = []\n",
    "    prompt_list = generate_prompts(predict_initial_prompt, tweet_list, 2048)\n",
    "    \n",
    "    for prompt in prompt_list:\n",
    "        if verbose:\n",
    "            print(\"Processing prompt:\\n\", prompt)\n",
    "        # Assuming `chatGPT` function is defined to interact with the OpenAI API\n",
    "        # Simulate response or replace this with an actual API call in your environment\n",
    "        simulated_response = \"1: D\\n2: R\\n3: D\\n4: R\\n5: D\\n6: R\\n7: D\\n8: R\\n9: D\\n10: R\\n11: D\\n12: R\\n13: D\\n14: R\"\n",
    "        # response = chatGPT(client, prompt, model=model_name)\n",
    "        \n",
    "        predictions = response_to_predictions(simulated_response)\n",
    "        all_predictions.extend(predictions)\n",
    "        \n",
    "        # Introduce a slight delay to respect rate limits, adjust as necessary\n",
    "        time.sleep(0.2)\n",
    "    \n",
    "    return all_predictions\n",
    "\n",
    "# execute this code with your defined LLM model (2% credit)\n",
    "all_predictions = tweets_to_predictions(predict_initial_prompt, sample_tweets[\"text\"].to_list(), model_name=model_name, verbose=True)\n",
    "\n",
    "all_predictions"
   ]
  },
  {
   "cell_type": "markdown",
   "metadata": {},
   "source": [
    "<img src=\"bikeshare.png\" width=\"100px\" align=\"left\" float=\"left\"/>\n",
    "<br><br><br>\n",
    "\n",
    "## Q14. Evaluating Prediction Accuracy and Takeaways (5%)\n",
    "\n",
    "Now, we will compare our SVM classifier performance with LLM model predictions. At first, we will split out training tweet data into 95% training and 5% test data randomly."
   ]
  },
  {
   "cell_type": "code",
   "execution_count": 33,
   "metadata": {},
   "outputs": [],
   "source": [
    "train_tweets_sampled, test_tweets_sampled = sklearn.model_selection.train_test_split(tweets, test_size=0.05, random_state=4200)"
   ]
  },
  {
   "cell_type": "markdown",
   "metadata": {},
   "source": [
    "Now, we will train a SVM classifer using the sampled 95% train data with our `best_kernel` from Q8 and evaluate performance of SVM classifier on the sampled 5% test data. Before running the cell below, make sure that you have completed from Q1-Q9 successfully as the below cell uses the whole pipeline of tweet classification. However, you do not need to change anything in the cell below."
   ]
  },
  {
   "cell_type": "code",
   "execution_count": 34,
   "metadata": {},
   "outputs": [
    {
     "data": {
      "text/plain": [
       "0.922543352601156"
      ]
     },
     "execution_count": 34,
     "metadata": {},
     "output_type": "execute_result"
    }
   ],
   "source": [
    "# processing train data\n",
    "train_tweets_sampled_processed = process_all(train_tweets_sampled)\n",
    "# creating features from train data\n",
    "(tfidf_1, X_train_sampled) = create_features(train_tweets_sampled_processed, processed_stopwords)\n",
    "# creating output labels for train data\n",
    "y_train_sampled = create_labels(train_tweets_sampled)\n",
    "# creating classifier using the best kernel\n",
    "classifier_1 = learn_classifier(X_train_sampled, y_train_sampled, best_kernel)\n",
    "\n",
    "# getting predictions from SVM classifier\n",
    "y_pred_sampled = classify_tweets(tfidf_1, classifier_1, test_tweets_sampled[['text']])\n",
    "# getting labels for test data\n",
    "y_test_sampled = create_labels(test_tweets_sampled)\n",
    "\n",
    "# calculating accuracy for the SVM classifier\n",
    "correct = 0\n",
    "for label, response in zip(y_test_sampled, y_pred_sampled):\n",
    "    if label == response:\n",
    "        correct += 1\n",
    "accuracy_svm = correct / len(y_pred_sampled)\n",
    "accuracy_svm"
   ]
  },
  {
   "cell_type": "markdown",
   "metadata": {},
   "source": [
    "We will now get predictions from the LLM model for the sampled 5% test data and calculate the accuracy for the tweet classification. Remember that the below `tweets_to_predictions` function will make many API calls and may take several minutes(20-30 minutes) to complete. Please do not run the cell below too many times as it may cause you [rate limit](https://platform.openai.com/docs/guides/rate-limits?context=tier-free) error. Run the cell below after ensuring that you have completed all the above tasks for part D in this notebook and executed them properly without any error."
   ]
  },
  {
   "cell_type": "code",
   "execution_count": 35,
   "metadata": {},
   "outputs": [],
   "source": [
    "all_predictions = tweets_to_predictions(predict_initial_prompt, test_tweets_sampled[\"text\"].to_list(), model_name=model_name)"
   ]
  },
  {
   "cell_type": "markdown",
   "metadata": {},
   "source": [
    "Now, calculate the accuracy for LLM for the sampled 5% test data."
   ]
  },
  {
   "cell_type": "code",
   "execution_count": 36,
   "metadata": {},
   "outputs": [
    {
     "name": "stdout",
     "output_type": "stream",
     "text": [
      "LLM Accuracy: 0.522543352601156\n"
     ]
    }
   ],
   "source": [
    "# TODO:\n",
    "# Convert screen_names to labels for test_tweets_sampled dataframe using create_labels() function from Q4\n",
    "# Evaluate accuracy using all_predictions for LLM tweet predictions and print it\n",
    "y_test_sampled_llm = create_labels(test_tweets_sampled)\n",
    "# Assuming all_predictions is your list of 'D' and 'R' predictions from the LLM\n",
    "all_predictions_binary = [1 if prediction == 'D' else 0 for prediction in all_predictions]\n",
    "correct_llm = sum(pred == true for pred, true in zip(all_predictions_binary, y_test_sampled_llm))\n",
    "accuracy_llm = correct_llm / len(y_test_sampled_llm)\n",
    "print(f\"LLM Accuracy: {accuracy_llm}\")"
   ]
  },
  {
   "cell_type": "markdown",
   "metadata": {},
   "source": [
    "Did LLM prediction perform better than your SVM classifier? Explain in 2-3 sentences how you reached this conclusion.\n",
    "\n",
    "No, LLM did not perfrom better than my SVM classifier as the accuracy score of SVM classifier is 0.9963579604578564 while the accuracy score of LLM is 0.522543352601156"
   ]
  },
  {
   "cell_type": "code",
   "execution_count": null,
   "metadata": {},
   "outputs": [],
   "source": []
  }
 ],
 "metadata": {
  "colab": {
   "collapsed_sections": [],
   "name": "hw3.ipynb",
   "provenance": []
  },
  "kernelspec": {
   "display_name": "Python 3 (ipykernel)",
   "language": "python",
   "name": "python3"
  },
  "language_info": {
   "codemirror_mode": {
    "name": "ipython",
    "version": 3
   },
   "file_extension": ".py",
   "mimetype": "text/x-python",
   "name": "python",
   "nbconvert_exporter": "python",
   "pygments_lexer": "ipython3",
   "version": "3.11.5"
  }
 },
 "nbformat": 4,
 "nbformat_minor": 4
}
